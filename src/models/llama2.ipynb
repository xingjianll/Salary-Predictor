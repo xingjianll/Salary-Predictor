{
 "cells": [
  {
   "cell_type": "code",
   "outputs": [],
   "source": [
    "from src.models.utils import read_csv_data, clean_location\n",
    "\n",
    "data = read_csv_data(\"../data/processed_job_postings.csv\", [\"name\", \"industry\", \"location\", \"formatted_experience_level\"], \"standardized_annual_salary\")\n",
    "data = clean_location(data, 2)\n",
    "\n",
    "\n",
    "import random\n",
    "random.seed(42)\n",
    "random.shuffle(data)\n",
    "\n",
    "train_data = data[:10000]\n",
    "val_data = data[10000:11000]\n",
    "test_data = data[12000:]"
   ],
   "metadata": {
    "collapsed": false
   },
   "id": "213f00e761fb90af"
  },
  {
   "cell_type": "code",
   "outputs": [],
   "source": [
    "print(data[10])"
   ],
   "metadata": {
    "collapsed": false
   },
   "id": "f828101a1765f6e"
  },
  {
   "cell_type": "code",
   "outputs": [],
   "source": [
    "from src.models.utils import build_column_vocabulary\n",
    "\n",
    "vocab_name = build_column_vocabulary(train_data, 0)\n",
    "vocab_sector = build_column_vocabulary(train_data, 1)\n",
    "vocab_state = build_column_vocabulary(train_data, 2)\n",
    "vocab_level = build_column_vocabulary(train_data, 3)\n",
    "len(vocab_state)"
   ],
   "metadata": {
    "collapsed": false
   },
   "id": "1f3230e0ad54a47e"
  },
  {
   "cell_type": "code",
   "outputs": [],
   "source": [],
   "metadata": {
    "collapsed": false
   },
   "id": "d864868c7138c46c"
  }
 ],
 "metadata": {
  "kernelspec": {
   "display_name": "Python 3",
   "language": "python",
   "name": "python3"
  },
  "language_info": {
   "codemirror_mode": {
    "name": "ipython",
    "version": 2
   },
   "file_extension": ".py",
   "mimetype": "text/x-python",
   "name": "python",
   "nbconvert_exporter": "python",
   "pygments_lexer": "ipython2",
   "version": "2.7.6"
  }
 },
 "nbformat": 4,
 "nbformat_minor": 5
}
