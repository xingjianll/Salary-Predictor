{
 "cells": [
  {
   "cell_type": "code",
   "outputs": [],
   "source": [
    "from src.models.utils import read_csv_data, clean_location\n",
    "\n",
    "data = read_csv_data(\"../data/processed_job_postings_large.csv\", \n",
    "                     [\"industry\", \"work_type\", \"location\", \"formatted_experience_level\",\n",
    "                      \"name\", \"cleaned_title\", \"cleaned_description\"],\n",
    "                     \"standardized_annual_salary\")\n",
    "data = clean_location(data, 2)\n",
    "import random\n",
    "random.seed(42)\n",
    "random.shuffle(data)\n",
    "\n",
    "train_data = data[:20000]\n",
    "val_data = data[20000:30000]\n",
    "test_data = data[30000:]"
   ],
   "metadata": {
    "collapsed": false,
    "ExecuteTime": {
     "end_time": "2024-04-17T16:26:39.278407Z",
     "start_time": "2024-04-17T16:26:35.350318Z"
    }
   },
   "id": "213f00e761fb90af",
   "execution_count": 1
  },
  {
   "cell_type": "code",
   "outputs": [
    {
     "name": "stdout",
     "output_type": "stream",
     "text": [
      "(['Law Enforcement', 'FULL_TIME', 'OH', 'Entry level', 'Ohio Department of Rehabilitation and Correction (ODRC)', 'behavioral healthcare provider 2 lisw lpcc 20026446', 'who we are guided by a single mission to reduce recidivism among those we touch the ohio department of rehabilitation and correction believes that everyone is capable of positive change our staff embrace these core values and serves as role models for prosocial behavior conveying an attitude of dignity and respect in the treatment of others what we do the ohio department of rehabilitation and correction has been tasked with front line crime reduction through rehabilitative treatment and programming efforts provided in a safe secure and humane correctional environment and effective community supervision our goal is to protect the public through helping individuals turn away from crime and become productive contributing members of our communities ensuring a safer ohio for all ohioans now and in the future to learn more about our agency please visit our website at wwwdrcohiogov are you ready we are thrilled to see that you are interested in beginning your career with the ohio department of rehabilitation and correction without a doubt this will be the most rewarding and meaningful work you ll ever find with a work family that is second to none what s in it for you pay ranges from approximately 67800 to 88200 starting pay will be based on qualifications education experience and location drc is a qualifying employer for purposes of the federal public service student loan forgiveness program our benefits package includes at the state of ohio we take care of the team that cares for ohioans we provide a variety of quality competitive benefits to eligible fulltime and parttime employees for a list of all the state of ohio benefits visit our total rewards website medical coverage quality affordable and competitive medical benefits are offered through the ohio med ppo plan dental vision and basic life insurance dental vision and basic life insurance premiums are free after one year of continuous service time away from work and worklife balance paid time off including vacation personal and sick leave 11 paid holidays per yearchildbirthadoption leave ohio public employees retirement system opers is the retirement system for state of ohio employees the employee contributes 10 of their salary towards their retirement the employer contributes an amount equal to 14 of the employees salary visit the opers website for more information deferred compensation the ohio deferred compensation program is a 457b voluntary retirement savings plan visit the ohio deferred compensation website for more information the job opportunity and duties completes detailed screens mental health evaluations and crisis services inclusive of suicide watch assessments within their scope of practice provides clinical direction to lower level worker may serve as treatment team coordinator conducts advanced practice individual and group clinical interventions as prescribed on the individual mental health treatment plan using clinical intervention strategies within their scope of practice and directed by supervisor provides clinical case management services to an assigned caseload including the monitoring of the offender compliance with the mental health treatment plan completes psychosocial needs and treatment assessments as part of interdisciplinary treatment planning completes transfer and discharge summaries consults with other institution staff regarding the mental health caseload inmates institutional adjustment and service needs initiates and maintains contact with families and community agencies provides and seeks information relative to patient care and treatment makes appropriate community and rereentry referrals per mental health treatment team writes reports or documentation to include documentation of all inmate contacts clinical case management progress note entries discharge plans and miscellaneous forms and reports as needed per policy and protocol attends meetings with supervision attends inservice training sessions and workshops for professional development participates in peer review as assigned or licensed independent social worker lisw by ohio counselor social work marriage family therapy board or licensed professional clinical counselor lpcc by ohio counselor social work marriage family therapy board note the official position description on file with the designated agency is to reflect in the minimum acceptable characteristics the required licenses related to the scope of practice services provided as described in the job duties only those applicants possessing the required licenses documented in the position description are to be considered for any vacancies posted or in case of displacement due to a layoff primary location united states of americaohioross countychillicothe work locations ross correctional institution organization rehabilitation correction ross correctional institution classified indicator classified bargaining unit exempt bargaining unit schedule fulltime compensation 67800 to 88200 unposting date sep 25 2023 75900 pm job function mental health agency contact name personnel director agency contact information 7407023584 drcrcirecruitodrcstateohus'], '78000.0')\n"
     ]
    }
   ],
   "source": [
    "print(data[10])"
   ],
   "metadata": {
    "collapsed": false,
    "ExecuteTime": {
     "end_time": "2024-04-17T16:26:40.442636Z",
     "start_time": "2024-04-17T16:26:40.437625Z"
    }
   },
   "id": "f828101a1765f6e",
   "execution_count": 2
  },
  {
   "cell_type": "code",
   "outputs": [
    {
     "data": {
      "text/plain": "7"
     },
     "execution_count": 3,
     "metadata": {},
     "output_type": "execute_result"
    }
   ],
   "source": [
    "from src.models.utils import build_column_vocabulary\n",
    "\n",
    "vocab_sector = build_column_vocabulary(train_data, 0)\n",
    "vocab_type = build_column_vocabulary(train_data, 1)\n",
    "vocab_state = build_column_vocabulary(train_data, 2)\n",
    "vocab_level = build_column_vocabulary(train_data, 3)\n",
    "len(vocab_type)"
   ],
   "metadata": {
    "collapsed": false,
    "ExecuteTime": {
     "end_time": "2024-04-17T16:26:42.456920Z",
     "start_time": "2024-04-17T16:26:41.518498Z"
    }
   },
   "id": "1f3230e0ad54a47e",
   "execution_count": 3
  },
  {
   "cell_type": "code",
   "outputs": [],
   "source": [
    "from src.models.utils import convert_to_one_hot\n",
    "from src.models.mlp import MLPDataset\n",
    "# temp looks like this\n",
    "# [([Tensor1, Tensor2, Tensor3, Tensor4] ,$30000), ...]\n",
    "train_features, train_targets = zip(*convert_to_one_hot(train_data, \n",
    "                                  [(0, vocab_sector),\n",
    "                                   (1, vocab_type),\n",
    "                                   (2, vocab_state),\n",
    "                                   (3, vocab_level)]))\n",
    "\n",
    "val_features, val_targets = zip(*convert_to_one_hot(val_data, \n",
    "                              [(0, vocab_sector),\n",
    "                               (1, vocab_type),\n",
    "                               (2, vocab_state),\n",
    "                               (3, vocab_level)]))\n"
   ],
   "metadata": {
    "collapsed": false,
    "ExecuteTime": {
     "end_time": "2024-04-17T16:26:54.550287Z",
     "start_time": "2024-04-17T16:26:43.853550Z"
    }
   },
   "id": "d864868c7138c46c",
   "execution_count": 4
  },
  {
   "cell_type": "code",
   "outputs": [
    {
     "data": {
      "text/plain": "[tensor([1., 0., 0., 0., 0., 0., 0., 0., 0., 0., 0., 0., 0., 0., 0., 0., 0., 0.,\n         0., 0., 0., 0., 0., 0., 0., 0., 0., 0., 0., 0., 0., 0., 0., 0., 0., 0.,\n         0., 0., 0., 0., 0., 0., 0., 0., 0., 0., 0., 0., 0., 0., 0., 0., 0., 0.,\n         0., 0., 0., 0., 0., 0., 0., 0., 0., 0., 0., 0., 0., 0., 0., 0., 0., 0.,\n         0., 0., 0., 0., 0., 0., 0., 0., 0., 0., 0., 0., 0., 0., 0., 0., 0., 0.,\n         0., 0., 0., 0., 0., 0., 0., 0., 0., 0., 0., 0., 0., 0., 0., 0., 0., 0.,\n         0., 0., 0., 0., 0., 0., 0., 0., 0., 0., 0., 0., 0., 0., 0., 0., 0., 0.,\n         0., 0., 0., 0., 0., 0., 0., 0., 0., 0., 0., 0., 0., 0., 0., 0., 0., 0.,\n         0., 0., 0., 0., 0., 0., 0., 0., 0., 0., 0., 0., 0., 0., 0., 0., 0., 0.,\n         0., 0., 0., 0., 0., 0., 0., 0., 0., 0., 0., 0., 0., 0., 0., 0., 0., 0.,\n         0., 0., 0., 0., 0., 0., 0., 0., 0., 0., 0., 0., 0., 0., 0., 0., 0., 0.,\n         0., 0., 0., 0., 0., 0., 0., 0., 0., 0., 0., 0., 0., 0., 0., 0., 0., 0.,\n         0., 0., 0., 0., 0., 0., 0., 0., 0., 0., 0., 0., 0., 0., 0., 0., 0., 0.,\n         0., 0., 0., 0.]),\n tensor([1., 0., 0., 0., 0., 0., 0.]),\n tensor([0., 0., 0., 0., 0., 0., 0., 0., 0., 0., 0., 0., 0., 0., 1., 0., 0., 0.,\n         0., 0., 0., 0., 0., 0., 0., 0., 0., 0., 0., 0., 0., 0., 0., 0., 0., 0.,\n         0., 0., 0., 0., 0., 0., 0., 0., 0., 0., 0., 0., 0., 0., 0., 0., 0., 0.,\n         0.]),\n tensor([1., 0., 0., 0., 0., 0., 0.])]"
     },
     "execution_count": 5,
     "metadata": {},
     "output_type": "execute_result"
    }
   ],
   "source": [
    "val_features[1]"
   ],
   "metadata": {
    "collapsed": false,
    "ExecuteTime": {
     "end_time": "2024-04-17T16:26:55.386904Z",
     "start_time": "2024-04-17T16:26:55.375851Z"
    }
   },
   "id": "b6c7f302535d7846",
   "execution_count": 5
  },
  {
   "cell_type": "code",
   "outputs": [],
   "source": [],
   "metadata": {
    "collapsed": false
   },
   "id": "e89cfddb53276580"
  }
 ],
 "metadata": {
  "kernelspec": {
   "display_name": "Python 3",
   "language": "python",
   "name": "python3"
  },
  "language_info": {
   "codemirror_mode": {
    "name": "ipython",
    "version": 2
   },
   "file_extension": ".py",
   "mimetype": "text/x-python",
   "name": "python",
   "nbconvert_exporter": "python",
   "pygments_lexer": "ipython2",
   "version": "2.7.6"
  }
 },
 "nbformat": 4,
 "nbformat_minor": 5
}
