{
 "cells": [
  {
   "cell_type": "code",
   "execution_count": 1,
   "id": "initial_id",
   "metadata": {
    "collapsed": true,
    "ExecuteTime": {
     "end_time": "2024-04-15T16:02:11.266577Z",
     "start_time": "2024-04-15T16:02:09.461190Z"
    }
   },
   "outputs": [],
   "source": [
    "from utils import read_csv_data, clean_location, build_column_vocabulary"
   ]
  },
  {
   "cell_type": "code",
   "outputs": [],
   "source": [
    "data = read_csv_data(\"../data/processed_job_postings.csv\", [\"name\", \"industry\", \"location\", \"formatted_experience_level\"], \"standardized_annual_salary\")\n",
    "data = clean_location(data, 2)\n",
    "import random\n",
    "random.seed(42)\n",
    "random.shuffle(data)\n",
    "\n",
    "train_data = data[:10000]\n",
    "val_data = data[10000:11000]\n",
    "test_data = data[12000:]"
   ],
   "metadata": {
    "collapsed": false,
    "ExecuteTime": {
     "end_time": "2024-04-15T16:02:13.057798Z",
     "start_time": "2024-04-15T16:02:12.412324Z"
    }
   },
   "id": "e5cb0131e8d2491",
   "execution_count": 2
  },
  {
   "cell_type": "code",
   "outputs": [
    {
     "name": "stdout",
     "output_type": "stream",
     "text": [
      "(['Hallmark Cards', 'Retail', 'FL', 'Entry level'], '26000.0')\n"
     ]
    }
   ],
   "source": [
    "print(train_data[10])\n",
    "\n"
   ],
   "metadata": {
    "collapsed": false,
    "ExecuteTime": {
     "end_time": "2024-04-15T16:02:13.721696Z",
     "start_time": "2024-04-15T16:02:13.715159Z"
    }
   },
   "id": "2dd21fca509e1239",
   "execution_count": 3
  },
  {
   "cell_type": "code",
   "outputs": [
    {
     "name": "stdout",
     "output_type": "stream",
     "text": [
      "56\n",
      "{'SD': 54, 'VT': 52, 'QC': 55, 'AK': 51, 'HI': 49, 'MT': 48, 'MS': 47, 'WY': 53, 'ID': 43, 'DE': 40, 'AR': 42, 'NE': 38, 'NV': 31, 'AL': 35, 'SC': 27, 'KS': 37, 'VA': 11, 'OK': 34, 'IN': 25, 'NM': 41, 'UT': 29, 'MN': 21, 'DC': 33, 'AZ': 17, 'WA': 7, 'NJ': 13, 'MI': 20, 'RI': 46, 'ME': 44, 'OH': 18, '<eos>': 1, 'MA': 14, '<pad>': 3, 'IL': 10, 'NH': 36, 'PA': 15, '<unk>': 2, 'CO': 9, 'OR': 24, 'MO': 26, 'FL': 8, 'LA': 39, 'CT': 28, 'GA': 12, 'TX': 6, 'ND': 45, 'WI': 23, 'NY': 5, 'IA': 32, 'CA': 4, 'KY': 30, 'MD': 19, '<bos>': 0, 'WV': 50, 'TN': 22, 'NC': 16}\n"
     ]
    }
   ],
   "source": [
    "vocab = build_column_vocabulary(train_data, 2)\n",
    "print(len(vocab))\n",
    "print(vocab.get_stoi())"
   ],
   "metadata": {
    "collapsed": false,
    "ExecuteTime": {
     "end_time": "2024-04-15T16:02:14.653416Z",
     "start_time": "2024-04-15T16:02:14.534747Z"
    }
   },
   "id": "688e31e19cddea5d",
   "execution_count": 4
  },
  {
   "cell_type": "code",
   "outputs": [],
   "source": [],
   "metadata": {
    "collapsed": false
   },
   "id": "de4da2265c28e12d"
  }
 ],
 "metadata": {
  "kernelspec": {
   "display_name": "Python 3",
   "language": "python",
   "name": "python3"
  },
  "language_info": {
   "codemirror_mode": {
    "name": "ipython",
    "version": 2
   },
   "file_extension": ".py",
   "mimetype": "text/x-python",
   "name": "python",
   "nbconvert_exporter": "python",
   "pygments_lexer": "ipython2",
   "version": "2.7.6"
  }
 },
 "nbformat": 4,
 "nbformat_minor": 5
}
