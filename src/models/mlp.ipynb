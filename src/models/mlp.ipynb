{
 "cells": [
  {
   "cell_type": "code",
   "execution_count": 2,
   "id": "initial_id",
   "metadata": {
    "ExecuteTime": {
     "end_time": "2024-04-18T21:25:10.218043Z",
     "start_time": "2024-04-18T21:25:10.209081Z"
    },
    "collapsed": true
   },
   "outputs": [],
   "source": [
    "from utils import read_csv_data, clean_location, build_column_vocabulary, convert_to_one_hot, cat_emb"
   ]
  },
  {
   "cell_type": "code",
   "execution_count": 14,
   "id": "e5cb0131e8d2491",
   "metadata": {
    "ExecuteTime": {
     "end_time": "2024-04-18T21:25:12.823550Z",
     "start_time": "2024-04-18T21:25:10.702551Z"
    },
    "collapsed": false
   },
   "outputs": [],
   "source": [
    "data = read_csv_data(\"../data/processed_job_postings_large_labeled.csv\", \n",
    "                     [\"industry\", \"work_type\", \"location\", \"formatted_experience_level\", \"title_emb\"], \"standardized_annual_salary\")\n",
    "data = clean_location(data, 2)\n",
    "\n",
    "import random\n",
    "random.seed(70)\n",
    "random.shuffle(data)\n",
    "\n",
    "train_data = data[:20000]\n",
    "val_data = data[20000:30000]\n",
    "test_data = data[30000:]"
   ]
  },
  {
   "cell_type": "code",
   "execution_count": 15,
   "id": "688e31e19cddea5d",
   "metadata": {
    "ExecuteTime": {
     "end_time": "2024-04-18T21:25:16.220633Z",
     "start_time": "2024-04-18T21:25:15.565914Z"
    },
    "collapsed": false
   },
   "outputs": [
    {
     "data": {
      "text/plain": [
       "7"
      ]
     },
     "execution_count": 15,
     "metadata": {},
     "output_type": "execute_result"
    }
   ],
   "source": [
    "vocab_sector = build_column_vocabulary(train_data, 0)\n",
    "vocab_type = build_column_vocabulary(train_data, 1)\n",
    "vocab_state = build_column_vocabulary(train_data, 2)\n",
    "vocab_level = build_column_vocabulary(train_data, 3)\n",
    "len(vocab_type)"
   ]
  },
  {
   "cell_type": "code",
   "execution_count": 16,
   "id": "b18b4f01",
   "metadata": {},
   "outputs": [],
   "source": [
    "# Attempt with basic MLP\n",
    "\n",
    "from mlp import MLPDataset\n",
    "# temp looks like this\n",
    "# [[Tensor1, Tensor2, Tensor3, Tensor4], ...]\n",
    "temp = convert_to_one_hot(train_data, \n",
    "                          [(0, vocab_sector),\n",
    "                           (1, vocab_type),\n",
    "                           (2, vocab_state),\n",
    "                           (3, vocab_level)])\n",
    "train_one_hot = MLPDataset(temp, [float(target) for _, target in train_data])\n",
    "\n",
    "temp = convert_to_one_hot(val_data, \n",
    "                          [(0, vocab_sector),\n",
    "                           (1, vocab_type),\n",
    "                           (2, vocab_state),\n",
    "                           (3, vocab_level)])\n",
    "val_one_hot = MLPDataset(temp, [float(target) for _, target in val_data])"
   ]
  },
  {
   "cell_type": "code",
   "execution_count": 17,
   "id": "d8b303ca",
   "metadata": {},
   "outputs": [],
   "source": [
    "from mlp import MLP, train_model\n",
    "total_features = train_one_hot[0][0].shape[0]\n",
    "model = MLP(input_size=total_features, hidden_size=100, output_size=1)  "
   ]
  },
  {
   "cell_type": "code",
   "execution_count": 18,
   "id": "b6436fd2",
   "metadata": {},
   "outputs": [
    {
     "ename": "ZeroDivisionError",
     "evalue": "division by zero",
     "output_type": "error",
     "traceback": [
      "\u001b[1;31m---------------------------------------------------------------------------\u001b[0m",
      "\u001b[1;31mZeroDivisionError\u001b[0m                         Traceback (most recent call last)",
      "Cell \u001b[1;32mIn[18], line 1\u001b[0m\n\u001b[1;32m----> 1\u001b[0m \u001b[43mtrain_model\u001b[49m\u001b[43m(\u001b[49m\u001b[43mmodel\u001b[49m\u001b[43m,\u001b[49m\u001b[43m \u001b[49m\u001b[43mtrain_one_hot\u001b[49m\u001b[43m,\u001b[49m\u001b[43m \u001b[49m\u001b[43mval_one_hot\u001b[49m\u001b[43m,\u001b[49m\u001b[43m \u001b[49m\u001b[38;5;241;43m0.01\u001b[39;49m\u001b[43m,\u001b[49m\u001b[43m \u001b[49m\u001b[43mbatch_size\u001b[49m\u001b[38;5;241;43m=\u001b[39;49m\u001b[38;5;241;43m500\u001b[39;49m\u001b[43m,\u001b[49m\u001b[43m \u001b[49m\u001b[43mnum_epochs\u001b[49m\u001b[38;5;241;43m=\u001b[39;49m\u001b[38;5;241;43m10\u001b[39;49m\u001b[43m)\u001b[49m\n",
      "File \u001b[1;32md:\\Programming\\CSC413\\Salary-Predictor\\src\\models\\mlp.py:142\u001b[0m, in \u001b[0;36mtrain_model\u001b[1;34m(model, train_data, val_data, learning_rate, batch_size, num_epochs, plot_every, plot)\u001b[0m\n\u001b[0;32m    140\u001b[0m             train_mae\u001b[38;5;241m.\u001b[39mappend(mae(model, train_data))\n\u001b[0;32m    141\u001b[0m             val_mae\u001b[38;5;241m.\u001b[39mappend(mae(model, val_data))\n\u001b[1;32m--> 142\u001b[0m             \u001b[38;5;28mprint\u001b[39m(\u001b[38;5;124mf\u001b[39m\u001b[38;5;124m\"\u001b[39m\u001b[38;5;124mIter \u001b[39m\u001b[38;5;132;01m{\u001b[39;00miter_count\u001b[38;5;250m \u001b[39m\u001b[38;5;241m+\u001b[39m\u001b[38;5;250m \u001b[39m\u001b[38;5;241m1\u001b[39m\u001b[38;5;132;01m}\u001b[39;00m\u001b[38;5;124m: Loss: \u001b[39m\u001b[38;5;132;01m{\u001b[39;00mlosses[\u001b[38;5;241m-\u001b[39m\u001b[38;5;241m1\u001b[39m]\u001b[38;5;132;01m}\u001b[39;00m\u001b[38;5;124m Train mae \u001b[39m\u001b[38;5;132;01m{\u001b[39;00mtrain_mae[\u001b[38;5;241m-\u001b[39m\u001b[38;5;241m1\u001b[39m]\u001b[38;5;132;01m}\u001b[39;00m\u001b[38;5;124m, Validation mae \u001b[39m\u001b[38;5;132;01m{\u001b[39;00mval_mae[\u001b[38;5;241m-\u001b[39m\u001b[38;5;241m1\u001b[39m]\u001b[38;5;132;01m}\u001b[39;00m\u001b[38;5;124m\"\u001b[39m)\n\u001b[0;32m    143\u001b[0m         iter_count \u001b[38;5;241m+\u001b[39m\u001b[38;5;241m=\u001b[39m \u001b[38;5;241m1\u001b[39m\n\u001b[0;32m    145\u001b[0m \u001b[38;5;28;01mif\u001b[39;00m plot:\n",
      "File \u001b[1;32md:\\Programming\\CSC413\\Salary-Predictor\\src\\models\\utils.py:163\u001b[0m, in \u001b[0;36mmae\u001b[1;34m(model, dataset)\u001b[0m\n\u001b[0;32m    161\u001b[0m     correct \u001b[38;5;241m+\u001b[39m\u001b[38;5;241m=\u001b[39m \u001b[38;5;28mint\u001b[39m(torch\u001b[38;5;241m.\u001b[39msum(t \u001b[38;5;241m==\u001b[39m pred))\n\u001b[0;32m    162\u001b[0m     total \u001b[38;5;241m+\u001b[39m\u001b[38;5;241m=\u001b[39m t\u001b[38;5;241m.\u001b[39mshape[\u001b[38;5;241m0\u001b[39m]\n\u001b[1;32m--> 163\u001b[0m \u001b[38;5;28;01mreturn\u001b[39;00m \u001b[43mcorrect\u001b[49m\u001b[43m \u001b[49m\u001b[38;5;241;43m/\u001b[39;49m\u001b[43m \u001b[49m\u001b[43mtotal\u001b[49m\n\u001b[0;32m    165\u001b[0m \u001b[38;5;28;01mreturn\u001b[39;00m distance \u001b[38;5;241m/\u001b[39m total\n",
      "\u001b[1;31mZeroDivisionError\u001b[0m: division by zero"
     ]
    }
   ],
   "source": [
    "train_model(model, train_one_hot, val_one_hot, 0.01, batch_size=500, num_epochs=10)"
   ]
  },
  {
   "cell_type": "code",
   "execution_count": 19,
   "id": "de4da2265c28e12d",
   "metadata": {
    "ExecuteTime": {
     "end_time": "2024-04-18T21:25:26.196535Z",
     "start_time": "2024-04-18T21:25:16.819369Z"
    },
    "collapsed": false
   },
   "outputs": [],
   "source": [
    "# Attempt to add topic embedding to improve the model\n",
    "\n",
    "from mlp import MLPDataset\n",
    "# temp looks like this\n",
    "# [[Tensor1, Tensor2, Tensor3, Tensor4], ...]\n",
    "temp = convert_to_one_hot(train_data, \n",
    "                          [(0, vocab_sector),\n",
    "                           (1, vocab_type),\n",
    "                           (2, vocab_state),\n",
    "                           (3, vocab_level)])\n",
    "temp = cat_emb(temp, train_data, 4)\n",
    "train_one_hot_with_emb = MLPDataset(temp, [float(target) for _, target in train_data])\n",
    "\n",
    "temp = convert_to_one_hot(val_data, \n",
    "                          [(0, vocab_sector),\n",
    "                           (1, vocab_type),\n",
    "                           (2, vocab_state),\n",
    "                           (3, vocab_level)])\n",
    "temp = cat_emb(temp, val_data, 4)\n",
    "val_one_hot_with_emb = MLPDataset(temp, [float(target) for _, target in val_data])"
   ]
  },
  {
   "cell_type": "code",
   "execution_count": 20,
   "id": "0f84ee52",
   "metadata": {},
   "outputs": [
    {
     "data": {
      "text/plain": [
       "torch.Size([701])"
      ]
     },
     "execution_count": 20,
     "metadata": {},
     "output_type": "execute_result"
    }
   ],
   "source": [
    "train_one_hot_with_emb[0][0].shape"
   ]
  },
  {
   "cell_type": "code",
   "execution_count": 64,
   "id": "b003e8620ae4705a",
   "metadata": {
    "ExecuteTime": {
     "end_time": "2024-04-18T21:25:26.207604Z",
     "start_time": "2024-04-18T21:25:26.200563Z"
    },
    "collapsed": false
   },
   "outputs": [],
   "source": [
    "from mlp import MLP, train_model\n",
    "total_features = train_one_hot_with_emb[0][0].shape[0]\n",
    "model = MLP(input_size=total_features, hidden_size=500, output_size=1)  "
   ]
  },
  {
   "cell_type": "code",
   "execution_count": 22,
   "id": "476b34a75ea7b974",
   "metadata": {
    "ExecuteTime": {
     "end_time": "2024-04-18T21:25:39.544029Z",
     "start_time": "2024-04-18T21:25:26.209447Z"
    },
    "collapsed": false
   },
   "outputs": [
    {
     "name": "stdout",
     "output_type": "stream",
     "text": [
      "Iter 50: Loss: 5942849024.0 Train mae 37549.96259765626, Validation mae 188206.4315861459\n",
      "Iter 100: Loss: 1833520512.0 Train mae 29122.114035755203, Validation mae 179991.56223604167\n",
      "Iter 150: Loss: 1505637376.0 Train mae 29760.797055255345, Validation mae 179849.69744889394\n",
      "Iter 200: Loss: 2284538112.0 Train mae 28157.179855761708, Validation mae 178471.2282485384\n",
      "Iter 250: Loss: 2126199296.0 Train mae 34443.03679767192, Validation mae 184414.58355191568\n",
      "Iter 300: Loss: 2085812352.0 Train mae 35043.92168864584, Validation mae 185397.53833745435\n",
      "Iter 350: Loss: 3129219072.0 Train mae 38035.7067202897, Validation mae 188148.1717122396\n",
      "Iter 400: Loss: 2542370048.0 Train mae 33376.92737933593, Validation mae 183888.300567207\n",
      "Iter 450: Loss: 2469461760.0 Train mae 30884.664167181, Validation mae 181282.34706082026\n",
      "Iter 500: Loss: 225908048789504.0 Train mae 41601.824200143215, Validation mae 190998.2968326171\n",
      "Iter 550: Loss: 2622249472.0 Train mae 41754.77760397785, Validation mae 191264.53808206378\n",
      "Iter 600: Loss: 2882733312.0 Train mae 40463.408085618474, Validation mae 190587.2391146159\n",
      "Iter 650: Loss: 3967009536.0 Train mae 40988.42265694336, Validation mae 190800.076992155\n",
      "Iter 700: Loss: 5899534848.0 Train mae 35924.26586117513, Validation mae 186012.09946363926\n",
      "Iter 750: Loss: 18408288256.0 Train mae 54583.86172451495, Validation mae 203179.9295062989\n",
      "Iter 800: Loss: 3573457664.0 Train mae 41972.80709606446, Validation mae 191728.10689676437\n",
      "Iter 850: Loss: 6802660864.0 Train mae 37082.77793029298, Validation mae 186889.2033661588\n",
      "Iter 900: Loss: 11217510400.0 Train mae 50028.350638365904, Validation mae 198643.35504486974\n",
      "Iter 950: Loss: 17477232640.0 Train mae 49373.614791276035, Validation mae 197430.42927995932\n",
      "Iter 1000: Loss: 11507546112.0 Train mae 42518.20520403646, Validation mae 191653.5675153255\n",
      "Iter 1050: Loss: 2329001728.0 Train mae 38904.880133852545, Validation mae 188364.72533300135\n",
      "Iter 1100: Loss: 7890440704.0 Train mae 43159.780691165375, Validation mae 192187.00938489585\n",
      "Iter 1150: Loss: 38620618752.0 Train mae 57492.62107870119, Validation mae 206198.07471621095\n",
      "Iter 1200: Loss: 4394956800.0 Train mae 47384.74970415773, Validation mae 195707.81436030447\n",
      "Iter 1250: Loss: 26934648832.0 Train mae 54140.63711258548, Validation mae 201491.36846181809\n",
      "Iter 1300: Loss: 28459999232.0 Train mae 56307.79803798827, Validation mae 204391.66016180182\n",
      "Iter 1350: Loss: 98538577920.0 Train mae 54502.50660436198, Validation mae 202280.35044031087\n",
      "Iter 1400: Loss: 64318844928.0 Train mae 47571.147057485345, Validation mae 195690.23544546386\n",
      "Iter 1450: Loss: 2523974144.0 Train mae 43873.59241617025, Validation mae 191364.11235459964\n",
      "Iter 1500: Loss: 2564558080.0 Train mae 45390.100101708966, Validation mae 193401.47016737147\n",
      "Iter 1550: Loss: 13951201280.0 Train mae 46505.81466537107, Validation mae 195296.5757738004\n",
      "Iter 1600: Loss: 22190032896.0 Train mae 55189.38988833172, Validation mae 202726.95148144697\n",
      "Iter 1650: Loss: 1767588992.0 Train mae 59337.64869506512, Validation mae 207733.02331637696\n",
      "Iter 1700: Loss: 67081748480.0 Train mae 54531.399186306975, Validation mae 202659.49722100905\n",
      "Iter 1750: Loss: 1420199168.0 Train mae 48640.15397432621, Validation mae 196603.98565579744\n",
      "Iter 1800: Loss: 27159875584.0 Train mae 54151.61688828775, Validation mae 202931.02802556634\n",
      "Iter 1850: Loss: 5155048448.0 Train mae 58894.14904560223, Validation mae 208145.222966302\n",
      "Iter 1900: Loss: 26297612288.0 Train mae 51141.44013972659, Validation mae 200320.03792573395\n",
      "Iter 1950: Loss: 84812439552.0 Train mae 57146.82478843586, Validation mae 206181.39266763837\n",
      "Iter 2000: Loss: 73917579264.0 Train mae 60731.185791650394, Validation mae 208904.7321678076\n"
     ]
    },
    {
     "data": {
      "image/png": "[encoded data removed]",
      "text/plain": [
       "<Figure size 1000x500 with 1 Axes>"
      ]
     },
     "metadata": {},
     "output_type": "display_data"
    }
   ],
   "source": [
    "train_model(model, train_one_hot_with_emb, val_one_hot_with_emb, 0.01, batch_size=100, num_epochs=10)"
   ]
  },
  {
   "cell_type": "code",
   "execution_count": 23,
   "id": "e8b6fad3efe24402",
   "metadata": {
    "ExecuteTime": {
     "end_time": "2024-04-18T21:21:42.351130Z",
     "start_time": "2024-04-18T21:21:42.348811Z"
    },
    "collapsed": false
   },
   "outputs": [
    {
     "data": {
      "text/plain": [
       "([' Education And Schools',\n",
       "  'FULL_TIME',\n",
       "  'PA',\n",
       "  '',\n",
       "  '[0. 0. 0. 0. 0. 0. 0. 0. 0. 0. 0. 0. 0. 0. 0. 0. 0. 0. 0. 0. 0. 0. 0. 0.\\n 0. 1. 0. 0. 0. 0. 0. 0. 0. 0. 0. 0. 1. 0. 0. 0. 0. 0. 0. 0. 0. 0. 0. 0.\\n 0. 0. 0. 0. 0. 0. 0. 0. 0. 0. 0. 0. 0. 0. 0. 0. 0. 0. 0. 0. 0. 0. 0. 0.\\n 0. 0. 0. 0. 0. 0. 0. 0. 0. 0. 0. 0. 0. 0. 0. 0. 0. 0. 0. 0. 0. 0. 0. 0.\\n 0. 0. 0. 0. 0. 0. 0. 0. 0. 0. 0. 0. 0. 0. 0. 0. 0. 0. 0. 0. 0. 0. 0. 0.\\n 0. 0. 0. 0. 0. 0. 0. 0. 0. 0. 0. 0. 0. 0. 0. 0. 0. 0. 0. 0. 0. 0. 0. 0.\\n 0. 0. 0. 0. 0. 0. 0. 0. 0. 0. 0. 0. 0. 0. 0. 0. 0. 0. 0. 0. 0. 0. 0. 0.\\n 0. 0. 0. 0. 0. 0. 0. 0. 0. 0. 0. 0. 0. 0. 0. 0. 0. 0. 0. 0. 0. 0. 0. 0.\\n 0. 0. 0. 0. 0. 0. 0. 0. 0. 0. 0. 0. 0. 0. 0. 0. 0. 0. 0. 0. 0. 0. 0. 0.\\n 0. 0. 0. 0. 0. 0. 0. 0. 0. 0. 0. 0. 0. 0. 0. 0. 0. 0. 0. 0. 0. 0. 0. 0.\\n 0. 0. 0. 0. 0. 0. 0. 0. 0. 0. 0. 0. 0. 0. 0. 0. 0. 0. 0. 0. 0. 0. 0. 0.\\n 0. 0. 0. 0. 0. 0. 0. 0. 0. 0. 0. 0. 0. 0. 0. 0. 0. 0. 0. 0. 0. 0. 0. 0.\\n 0. 0. 0. 0. 0. 0. 0. 0. 0. 0. 0. 0. 0. 0. 0. 0. 0. 0. 0. 0. 0. 0. 0. 0.\\n 0. 0. 0. 0. 0. 0. 0. 0. 0. 0. 0. 0. 0. 0. 0. 0. 0. 0. 0. 0. 0. 0. 0. 0.\\n 0. 0. 0. 0. 0. 0. 0. 0. 0. 0. 0. 0. 0. 0. 0. 0. 0. 0. 0. 0. 0. 0. 0. 0.\\n 0. 0. 0. 0. 0. 0. 0. 0. 0. 0. 0. 0. 0. 0. 0. 0. 0. 0. 0. 0. 0. 0. 0. 0.\\n 0. 0. 0. 0. 0. 0. 0. 0. 0. 0. 0. 0. 0. 0. 0. 0.]'],\n",
       " '32640.0')"
      ]
     },
     "execution_count": 23,
     "metadata": {},
     "output_type": "execute_result"
    }
   ],
   "source": [
    "train_data[-1]"
   ]
  },
  {
   "cell_type": "code",
   "execution_count": 3,
   "id": "5fd26742",
   "metadata": {},
   "outputs": [],
   "source": [
    "# Change to Categorical\n",
    "data = read_csv_data(\"../data/processed_job_postings_large_labeled.csv\", \n",
    "                     [\"industry\", \"work_type\", \"location\", \"formatted_experience_level\", \"title_emb\"], \"salary_level\")\n",
    "data = clean_location(data, 2)\n",
    "\n",
    "import random\n",
    "random.seed(70)\n",
    "random.shuffle(data)\n",
    "\n",
    "train_data = data[:20000]\n",
    "val_data = data[20000:30000]\n",
    "test_data = data[30000:]"
   ]
  },
  {
   "cell_type": "code",
   "execution_count": 4,
   "id": "748ffafc",
   "metadata": {},
   "outputs": [
    {
     "data": {
      "text/plain": [
       "7"
      ]
     },
     "execution_count": 4,
     "metadata": {},
     "output_type": "execute_result"
    }
   ],
   "source": [
    "vocab_sector = build_column_vocabulary(train_data, 0)\n",
    "vocab_type = build_column_vocabulary(train_data, 1)\n",
    "vocab_state = build_column_vocabulary(train_data, 2)\n",
    "vocab_level = build_column_vocabulary(train_data, 3)\n",
    "len(vocab_type)"
   ]
  },
  {
   "cell_type": "code",
   "execution_count": 5,
   "id": "a32a1fb6",
   "metadata": {},
   "outputs": [],
   "source": [
    "import torch\n",
    "from sklearn.preprocessing import LabelEncoder, OneHotEncoder\n",
    "\n",
    "targets = [data[i][1] for i in range(len(data))]\n",
    "\n",
    "labels = ['10K-'] + [f\"{i}K - {i + 10}K\" for i in range(10, 150, 10)] + ['160K+']\n",
    "label_to_int = {label: i for i, label in enumerate(labels)}\n",
    "\n",
    "targets = list(map(lambda x: label_to_int[x], targets))\n",
    "\n",
    "targets = torch.tensor(targets)\n",
    "\n",
    "train_targets = targets[:20000]\n",
    "val_targets = targets[20000:30000]\n",
    "test_targets = targets[30000:]"
   ]
  },
  {
   "cell_type": "code",
   "execution_count": 6,
   "id": "1f7a5241",
   "metadata": {},
   "outputs": [
    {
     "data": {
      "text/plain": [
       "tensor([13,  3,  3,  ...,  5,  9,  3])"
      ]
     },
     "execution_count": 6,
     "metadata": {},
     "output_type": "execute_result"
    }
   ],
   "source": [
    "train_targets"
   ]
  },
  {
   "cell_type": "code",
   "execution_count": 10,
   "id": "c0c779eb",
   "metadata": {},
   "outputs": [],
   "source": [
    "# Attempt with basic MLP\n",
    "\n",
    "from mlp import MLPDataset\n",
    "# temp looks like this\n",
    "# [[Tensor1, Tensor2, Tensor3, Tensor4], ...]\n",
    "temp = convert_to_one_hot(train_data, \n",
    "                          [(0, vocab_sector),\n",
    "                           (1, vocab_type),\n",
    "                           (2, vocab_state),\n",
    "                           (3, vocab_level)])\n",
    "train_one_hot = MLPDataset(temp, [target.type(torch.LongTensor) for target in train_targets])\n",
    "\n",
    "\n",
    "\n",
    "temp = convert_to_one_hot(val_data, \n",
    "                          [(0, vocab_sector),\n",
    "                           (1, vocab_type),\n",
    "                           (2, vocab_state),\n",
    "                           (3, vocab_level)])\n",
    "val_one_hot = MLPDataset(temp, [target.type(torch.LongTensor) for target in val_targets])"
   ]
  },
  {
   "cell_type": "code",
   "execution_count": 11,
   "id": "119f2b0c",
   "metadata": {},
   "outputs": [],
   "source": [
    "from mlp import MLP, train_classifier\n",
    "total_features = train_one_hot[0][0].shape[0]\n",
    "model = MLP(input_size=total_features, hidden_size=100, output_size=len(labels))  "
   ]
  },
  {
   "cell_type": "code",
   "execution_count": 12,
   "id": "d1f001b0",
   "metadata": {},
   "outputs": [
    {
     "ename": "RuntimeError",
     "evalue": "expected scalar type Long but found Float",
     "output_type": "error",
     "traceback": [
      "\u001b[1;31m---------------------------------------------------------------------------\u001b[0m",
      "\u001b[1;31mRuntimeError\u001b[0m                              Traceback (most recent call last)",
      "Cell \u001b[1;32mIn[12], line 1\u001b[0m\n\u001b[1;32m----> 1\u001b[0m \u001b[43mtrain_classifier\u001b[49m\u001b[43m(\u001b[49m\u001b[43mmodel\u001b[49m\u001b[43m,\u001b[49m\u001b[43m \u001b[49m\u001b[43mtrain_one_hot\u001b[49m\u001b[43m,\u001b[49m\u001b[43m \u001b[49m\u001b[43mtrain_one_hot\u001b[49m\u001b[43m,\u001b[49m\u001b[43m \u001b[49m\u001b[38;5;241;43m0.01\u001b[39;49m\u001b[43m,\u001b[49m\u001b[43m \u001b[49m\u001b[43mbatch_size\u001b[49m\u001b[38;5;241;43m=\u001b[39;49m\u001b[38;5;241;43m100\u001b[39;49m\u001b[43m,\u001b[49m\u001b[43m \u001b[49m\u001b[43mnum_epochs\u001b[49m\u001b[38;5;241;43m=\u001b[39;49m\u001b[38;5;241;43m10\u001b[39;49m\u001b[43m)\u001b[49m\n",
      "File \u001b[1;32md:\\Programming\\CSC413\\Salary-Predictor\\src\\models\\mlp.py:94\u001b[0m, in \u001b[0;36mtrain_classifier\u001b[1;34m(model, train_data, val_data, learning_rate, batch_size, num_epochs, plot_every, plot)\u001b[0m\n\u001b[0;32m     92\u001b[0m outputs \u001b[38;5;241m=\u001b[39m model(inputs)\n\u001b[0;32m     93\u001b[0m outputs \u001b[38;5;241m=\u001b[39m outputs\u001b[38;5;241m.\u001b[39msqueeze()\n\u001b[1;32m---> 94\u001b[0m loss \u001b[38;5;241m=\u001b[39m \u001b[43mcriterion\u001b[49m\u001b[43m(\u001b[49m\u001b[43moutputs\u001b[49m\u001b[43m,\u001b[49m\u001b[43m \u001b[49m\u001b[43mlabel\u001b[49m\u001b[43m)\u001b[49m\n\u001b[0;32m     95\u001b[0m loss\u001b[38;5;241m.\u001b[39mbackward()\n\u001b[0;32m     96\u001b[0m optimizer\u001b[38;5;241m.\u001b[39mstep()\n",
      "File \u001b[1;32md:\\Programming\\CSC413\\Salary-Predictor\\venv\\Lib\\site-packages\\torch\\nn\\modules\\module.py:1511\u001b[0m, in \u001b[0;36mModule._wrapped_call_impl\u001b[1;34m(self, *args, **kwargs)\u001b[0m\n\u001b[0;32m   1509\u001b[0m     \u001b[38;5;28;01mreturn\u001b[39;00m \u001b[38;5;28mself\u001b[39m\u001b[38;5;241m.\u001b[39m_compiled_call_impl(\u001b[38;5;241m*\u001b[39margs, \u001b[38;5;241m*\u001b[39m\u001b[38;5;241m*\u001b[39mkwargs)  \u001b[38;5;66;03m# type: ignore[misc]\u001b[39;00m\n\u001b[0;32m   1510\u001b[0m \u001b[38;5;28;01melse\u001b[39;00m:\n\u001b[1;32m-> 1511\u001b[0m     \u001b[38;5;28;01mreturn\u001b[39;00m \u001b[38;5;28;43mself\u001b[39;49m\u001b[38;5;241;43m.\u001b[39;49m\u001b[43m_call_impl\u001b[49m\u001b[43m(\u001b[49m\u001b[38;5;241;43m*\u001b[39;49m\u001b[43margs\u001b[49m\u001b[43m,\u001b[49m\u001b[43m \u001b[49m\u001b[38;5;241;43m*\u001b[39;49m\u001b[38;5;241;43m*\u001b[39;49m\u001b[43mkwargs\u001b[49m\u001b[43m)\u001b[49m\n",
      "File \u001b[1;32md:\\Programming\\CSC413\\Salary-Predictor\\venv\\Lib\\site-packages\\torch\\nn\\modules\\module.py:1520\u001b[0m, in \u001b[0;36mModule._call_impl\u001b[1;34m(self, *args, **kwargs)\u001b[0m\n\u001b[0;32m   1515\u001b[0m \u001b[38;5;66;03m# If we don't have any hooks, we want to skip the rest of the logic in\u001b[39;00m\n\u001b[0;32m   1516\u001b[0m \u001b[38;5;66;03m# this function, and just call forward.\u001b[39;00m\n\u001b[0;32m   1517\u001b[0m \u001b[38;5;28;01mif\u001b[39;00m \u001b[38;5;129;01mnot\u001b[39;00m (\u001b[38;5;28mself\u001b[39m\u001b[38;5;241m.\u001b[39m_backward_hooks \u001b[38;5;129;01mor\u001b[39;00m \u001b[38;5;28mself\u001b[39m\u001b[38;5;241m.\u001b[39m_backward_pre_hooks \u001b[38;5;129;01mor\u001b[39;00m \u001b[38;5;28mself\u001b[39m\u001b[38;5;241m.\u001b[39m_forward_hooks \u001b[38;5;129;01mor\u001b[39;00m \u001b[38;5;28mself\u001b[39m\u001b[38;5;241m.\u001b[39m_forward_pre_hooks\n\u001b[0;32m   1518\u001b[0m         \u001b[38;5;129;01mor\u001b[39;00m _global_backward_pre_hooks \u001b[38;5;129;01mor\u001b[39;00m _global_backward_hooks\n\u001b[0;32m   1519\u001b[0m         \u001b[38;5;129;01mor\u001b[39;00m _global_forward_hooks \u001b[38;5;129;01mor\u001b[39;00m _global_forward_pre_hooks):\n\u001b[1;32m-> 1520\u001b[0m     \u001b[38;5;28;01mreturn\u001b[39;00m \u001b[43mforward_call\u001b[49m\u001b[43m(\u001b[49m\u001b[38;5;241;43m*\u001b[39;49m\u001b[43margs\u001b[49m\u001b[43m,\u001b[49m\u001b[43m \u001b[49m\u001b[38;5;241;43m*\u001b[39;49m\u001b[38;5;241;43m*\u001b[39;49m\u001b[43mkwargs\u001b[49m\u001b[43m)\u001b[49m\n\u001b[0;32m   1522\u001b[0m \u001b[38;5;28;01mtry\u001b[39;00m:\n\u001b[0;32m   1523\u001b[0m     result \u001b[38;5;241m=\u001b[39m \u001b[38;5;28;01mNone\u001b[39;00m\n",
      "File \u001b[1;32md:\\Programming\\CSC413\\Salary-Predictor\\venv\\Lib\\site-packages\\torch\\nn\\modules\\loss.py:1179\u001b[0m, in \u001b[0;36mCrossEntropyLoss.forward\u001b[1;34m(self, input, target)\u001b[0m\n\u001b[0;32m   1178\u001b[0m \u001b[38;5;28;01mdef\u001b[39;00m \u001b[38;5;21mforward\u001b[39m(\u001b[38;5;28mself\u001b[39m, \u001b[38;5;28minput\u001b[39m: Tensor, target: Tensor) \u001b[38;5;241m-\u001b[39m\u001b[38;5;241m>\u001b[39m Tensor:\n\u001b[1;32m-> 1179\u001b[0m     \u001b[38;5;28;01mreturn\u001b[39;00m \u001b[43mF\u001b[49m\u001b[38;5;241;43m.\u001b[39;49m\u001b[43mcross_entropy\u001b[49m\u001b[43m(\u001b[49m\u001b[38;5;28;43minput\u001b[39;49m\u001b[43m,\u001b[49m\u001b[43m \u001b[49m\u001b[43mtarget\u001b[49m\u001b[43m,\u001b[49m\u001b[43m \u001b[49m\u001b[43mweight\u001b[49m\u001b[38;5;241;43m=\u001b[39;49m\u001b[38;5;28;43mself\u001b[39;49m\u001b[38;5;241;43m.\u001b[39;49m\u001b[43mweight\u001b[49m\u001b[43m,\u001b[49m\n\u001b[0;32m   1180\u001b[0m \u001b[43m                           \u001b[49m\u001b[43mignore_index\u001b[49m\u001b[38;5;241;43m=\u001b[39;49m\u001b[38;5;28;43mself\u001b[39;49m\u001b[38;5;241;43m.\u001b[39;49m\u001b[43mignore_index\u001b[49m\u001b[43m,\u001b[49m\u001b[43m \u001b[49m\u001b[43mreduction\u001b[49m\u001b[38;5;241;43m=\u001b[39;49m\u001b[38;5;28;43mself\u001b[39;49m\u001b[38;5;241;43m.\u001b[39;49m\u001b[43mreduction\u001b[49m\u001b[43m,\u001b[49m\n\u001b[0;32m   1181\u001b[0m \u001b[43m                           \u001b[49m\u001b[43mlabel_smoothing\u001b[49m\u001b[38;5;241;43m=\u001b[39;49m\u001b[38;5;28;43mself\u001b[39;49m\u001b[38;5;241;43m.\u001b[39;49m\u001b[43mlabel_smoothing\u001b[49m\u001b[43m)\u001b[49m\n",
      "File \u001b[1;32md:\\Programming\\CSC413\\Salary-Predictor\\venv\\Lib\\site-packages\\torch\\nn\\functional.py:3059\u001b[0m, in \u001b[0;36mcross_entropy\u001b[1;34m(input, target, weight, size_average, ignore_index, reduce, reduction, label_smoothing)\u001b[0m\n\u001b[0;32m   3057\u001b[0m \u001b[38;5;28;01mif\u001b[39;00m size_average \u001b[38;5;129;01mis\u001b[39;00m \u001b[38;5;129;01mnot\u001b[39;00m \u001b[38;5;28;01mNone\u001b[39;00m \u001b[38;5;129;01mor\u001b[39;00m reduce \u001b[38;5;129;01mis\u001b[39;00m \u001b[38;5;129;01mnot\u001b[39;00m \u001b[38;5;28;01mNone\u001b[39;00m:\n\u001b[0;32m   3058\u001b[0m     reduction \u001b[38;5;241m=\u001b[39m _Reduction\u001b[38;5;241m.\u001b[39mlegacy_get_string(size_average, reduce)\n\u001b[1;32m-> 3059\u001b[0m \u001b[38;5;28;01mreturn\u001b[39;00m \u001b[43mtorch\u001b[49m\u001b[38;5;241;43m.\u001b[39;49m\u001b[43m_C\u001b[49m\u001b[38;5;241;43m.\u001b[39;49m\u001b[43m_nn\u001b[49m\u001b[38;5;241;43m.\u001b[39;49m\u001b[43mcross_entropy_loss\u001b[49m\u001b[43m(\u001b[49m\u001b[38;5;28;43minput\u001b[39;49m\u001b[43m,\u001b[49m\u001b[43m \u001b[49m\u001b[43mtarget\u001b[49m\u001b[43m,\u001b[49m\u001b[43m \u001b[49m\u001b[43mweight\u001b[49m\u001b[43m,\u001b[49m\u001b[43m \u001b[49m\u001b[43m_Reduction\u001b[49m\u001b[38;5;241;43m.\u001b[39;49m\u001b[43mget_enum\u001b[49m\u001b[43m(\u001b[49m\u001b[43mreduction\u001b[49m\u001b[43m)\u001b[49m\u001b[43m,\u001b[49m\u001b[43m \u001b[49m\u001b[43mignore_index\u001b[49m\u001b[43m,\u001b[49m\u001b[43m \u001b[49m\u001b[43mlabel_smoothing\u001b[49m\u001b[43m)\u001b[49m\n",
      "\u001b[1;31mRuntimeError\u001b[0m: expected scalar type Long but found Float"
     ]
    }
   ],
   "source": [
    "train_classifier(model, train_one_hot, val_one_hot, 0.01, batch_size=100, num_epochs=10)"
   ]
  },
  {
   "cell_type": "code",
   "execution_count": null,
   "id": "b441d529",
   "metadata": {},
   "outputs": [],
   "source": []
  },
  {
   "cell_type": "code",
   "execution_count": null,
   "id": "a2570ea9",
   "metadata": {},
   "outputs": [],
   "source": []
  }
 ],
 "metadata": {
  "kernelspec": {
   "display_name": "Python 3",
   "language": "python",
   "name": "python3"
  },
  "language_info": {
   "codemirror_mode": {
    "name": "ipython",
    "version": 2
   },
   "file_extension": ".py",
   "mimetype": "text/x-python",
   "name": "python",
   "nbconvert_exporter": "python",
   "pygments_lexer": "ipython2",
   "version": "2.7.6"
  }
 },
 "nbformat": 4,
 "nbformat_minor": 5
}
