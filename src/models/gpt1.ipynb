{
 "cells": [
  {
   "cell_type": "code",
   "execution_count": 1,
   "id": "initial_id",
   "metadata": {
    "collapsed": true,
    "ExecuteTime": {
     "end_time": "2024-04-18T10:13:18.015615Z",
     "start_time": "2024-04-18T10:13:13.990359Z"
    }
   },
   "outputs": [],
   "source": [
    "from utils import read_csv_data, clean_location\n",
    "\n",
    "data = read_csv_data(\"../data/processed_job_postings_large.csv\", \n",
    "                     [\"industry\", \"work_type\", \"location\", \"formatted_experience_level\",\n",
    "                      \"name\", \"cleaned_title\", \"cleaned_description\"],\n",
    "                     \"standardized_annual_salary\")\n",
    "data = clean_location(data, 2)\n",
    "import random\n",
    "random.seed(42)\n",
    "random.shuffle(data)\n",
    "\n",
    "train_data = data[:1000]\n",
    "val_data = data[1000:2000]\n",
    "test_data = data[30000:]"
   ]
  },
  {
   "cell_type": "code",
   "execution_count": 2,
   "id": "72692612c9cf88a0",
   "metadata": {
    "collapsed": false,
    "ExecuteTime": {
     "end_time": "2024-04-18T10:13:18.544483Z",
     "start_time": "2024-04-18T10:13:18.018581Z"
    }
   },
   "outputs": [],
   "source": [
    "from utils import build_column_vocabulary\n",
    "\n",
    "vocab_industry = build_column_vocabulary(train_data, 0)\n",
    "vocab_type = build_column_vocabulary(train_data, 1)\n",
    "vocab_state = build_column_vocabulary(train_data, 2)\n",
    "vocab_level = build_column_vocabulary(train_data, 3)"
   ]
  },
  {
   "cell_type": "code",
   "execution_count": 3,
   "id": "a4fd8830c588f794",
   "metadata": {
    "collapsed": false,
    "ExecuteTime": {
     "end_time": "2024-04-18T10:13:19.115122Z",
     "start_time": "2024-04-18T10:13:18.546358Z"
    }
   },
   "outputs": [],
   "source": [
    "from utils import convert_to_one_hot\n",
    "import torch\n",
    "\n",
    "train_cat_features = convert_to_one_hot(train_data, \n",
    "                                  [(0, vocab_industry),\n",
    "                                   (1, vocab_type),\n",
    "                                   (2, vocab_state),\n",
    "                                   (3, vocab_level)])\n",
    "\n",
    "val_cat_features = convert_to_one_hot(val_data, \n",
    "                                  [(0, vocab_industry),\n",
    "                                   (1, vocab_type),\n",
    "                                   (2, vocab_state),\n",
    "                                   (3, vocab_level)])\n",
    "\n",
    "# Convert Lists to Tensors\n",
    "train_cat_features = torch.stack(train_cat_features)\n",
    "val_cat_features = torch.stack(val_cat_features)"
   ]
  },
  {
   "cell_type": "code",
   "execution_count": 4,
   "id": "9d1c3502cb523762",
   "metadata": {
    "collapsed": false,
    "ExecuteTime": {
     "end_time": "2024-04-18T10:13:20.116114Z",
     "start_time": "2024-04-18T10:13:19.120388Z"
    }
   },
   "outputs": [],
   "source": [
    "from transformers import AutoTokenizer\n",
    "\n",
    "tokenizer = AutoTokenizer.from_pretrained(\"openai-gpt\")\n",
    "tokenizer.pad_token = tokenizer.unk_token\n",
    "tokenizer.padding_side = \"right\" \n",
    "a = tokenizer('hello this is a test',\n",
    "         truncation=True,\n",
    "         padding='max_length',\n",
    "         max_length=512,\n",
    "         return_tensors=\"pt\")"
   ]
  },
  {
   "cell_type": "code",
   "execution_count": 5,
   "id": "1f09d5233be3f3",
   "metadata": {
    "collapsed": false,
    "ExecuteTime": {
     "end_time": "2024-04-18T10:13:23.703508Z",
     "start_time": "2024-04-18T10:13:20.118123Z"
    }
   },
   "outputs": [],
   "source": [
    "\n",
    "from gpt1 import GPT1Dataset\n",
    "\n",
    "descriptions = [item[0][6] for item in train_data]\n",
    "input_ids, attention_mask = [], []\n",
    "for description in descriptions:\n",
    "    encoding = tokenizer(description,\n",
    "                         truncation=True,\n",
    "                         padding='max_length',\n",
    "                         max_length=512,\n",
    "                         return_tensors=\"pt\")\n",
    "    # input_ids.append(encoding['input_ids'].squeeze())\n",
    "    # attention_mask.append(encoding['attention_mask'].squeeze())\n",
    "    input_ids.append(encoding['input_ids'][0])\n",
    "    attention_mask.append(encoding['attention_mask'][0])\n",
    "\n",
    "labels = [float(target) for _, target in train_data]\n",
    "\n",
    "train_dataset = GPT1Dataset(input_ids, attention_mask, train_cat_features, labels)"
   ]
  },
  {
   "cell_type": "code",
   "outputs": [],
   "source": [
    "descriptions = [item[0][6] for item in val_data]\n",
    "input_ids, attention_mask = [], []\n",
    "for description in descriptions:\n",
    "    encoding = tokenizer(description,\n",
    "                         truncation=True,\n",
    "                         padding='max_length',\n",
    "                         max_length=512,\n",
    "                         return_tensors=\"pt\")\n",
    "    input_ids.append(encoding['input_ids'].squeeze())\n",
    "    attention_mask.append(encoding['attention_mask'].squeeze())\n",
    "    # input_ids.append(encoding['input_ids'][0])\n",
    "    # attention_mask.append(encoding['attention_mask'][0])\n",
    "\n",
    "labels = [float(target) for _, target in val_data]\n",
    "\n",
    "val_dataset = GPT1Dataset(input_ids, attention_mask, val_cat_features, labels)"
   ],
   "metadata": {
    "collapsed": false,
    "ExecuteTime": {
     "end_time": "2024-04-18T10:13:26.224242Z",
     "start_time": "2024-04-18T10:13:23.705314Z"
    }
   },
   "id": "cc429ee792143ce7",
   "execution_count": 6
  },
  {
   "cell_type": "code",
   "execution_count": 7,
   "id": "206cac4e80e854b6",
   "metadata": {
    "collapsed": false,
    "ExecuteTime": {
     "end_time": "2024-04-18T10:13:26.235528Z",
     "start_time": "2024-04-18T10:13:26.225390Z"
    }
   },
   "outputs": [
    {
     "data": {
      "text/plain": "{'input_ids': tensor([ 6303,  5253, 23263,   640,  5154,   562,  4387,   488, 33243, 12810,\n           485,  8052,   600,   640,  7826,   500,   246, 32968,  6425,   488,\n          2029, 14121,  1996,  7404,   481,  5253,  6844,   485,  2236,   488,\n         12561,   746,  5253,  9535,  6672,  8153,  2694,  8017,  6112,   488,\n          1178, 40443, 20369,  5655,   481,  2179,  9269,  6875,  2906,   555,\n          9514,  6875,   544,   566,   498,   481,  1495, 26789,  3304, 31375,\n           500,   481,  6391,  7876,   600,   640,  1081,   562,   531,  5007,\n          6303,  5253,  6844,   485,  3351,   754,  3170,  2855,   556,   531,\n          6636,  6271, 39135,   745,   562,  4804, 10361,   488,  2429,   616,\n          7391,   500, 35627,   562,   754,  6589,  1463,   488, 10998,  8426,\n         18298, 19231,  3388,  1510,  1383, 12602, 14152, 28530,   488,  6190,\n           519,  2102,  5142,  7730,   517,  1801, 22537,  5253, 11675, 16680,\n           488,  3675,   485,  9945,   720,  4317, 19005, 23006, 20011,   562,\n         36060,  5253,  3669, 10760, 21403,   488, 14799,  7242,   498,  5467,\n          9535,   485,  4640,  6126,  1227,   498, 12622,     3, 39994,  9807,\n           556,  1840, 31375,   488, 39733, 15450,   498,  1840, 31375,   525,\n          9036,  7410,  5847,   625, 12700,   556,  5253,  3997,   485, 10424,\n          1129,  2236,   488,   485, 27221,  9315, 14234,   488,  9777,   498,\n         19975,    15, 33414,   488, 19048,  9171,   498,  5253, 11553,   485,\n          8052,  5253,  4969,  1633,   504,  6816,   488,  2029, 27712,   545,\n          7678,     3, 37209,  6858, 15270, 19814,  6816,   485,  3937,   488,\n         13878,   481,  7049,  5253,  4986,  5001, 12811,   996,  7788,  7268,\n          3572,   702,  5253, 11553,   488, 13458, 14343, 22921,   522,  3675,\n           557, 15490,   970,   572,     3,  1917,   522, 37209,  5253,  7268,\n           562, 12128,  6875,   522,  3686, 16796, 12700,   556,  5253, 11553,\n           485,  6159, 15123,  5553,   488,   485,  9093,  1881,    20,   582,\n           506,   710,   552,   280,  1218,   498,  8426,  4010,    25,   859,\n            17,   731,  5614,   500,  6589,  1463, 10998,   625,  4710,  3388,\n          2074, 20316,   488,  3857,  8932, 22312,   582,   506,    12,  7169,\n           500,  6239,  2022,  1876,  5097,     5,   481,  3371,   485,  1129,\n           500,   246,  1708,  7948,  1129,  8412,  1448, 25719,   485,  1129,\n         29561,   488,   557,  1250,   498,   246, 18298,   481,  3183,   485,\n          4097,   754,  5784, 18320, 27187,   481,  3183,   485,  2413,   481,\n          9638,   498,   246,  6711, 30656,  3304,  9648,  1525,   481,  3183,\n           485, 13259,   803,   498,   481,  4066,  5253,  4510,   486,    14,\n          2074,  3921,  5319,   556,  6875,  2934, 11865,    14,  1890,  1067,\n           486,  3888, 16234,   498,    50, 12354, 12354,    53,    48,  7397,\n         11343,   504,  4010,  1345,  8912,  5945, 14402,  5295,   536,   501,\n          2600,  3999,   502,    15,  1708, 10103,  5784,  4969, 14890,  1463,\n         28242,  1047,   791,  2600,   952,   882, 21394,  1463,  6558,  8954,\n          1575,  4130,   539,  1019,   486,  5147,    15, 33538,   677,  1426,\n         24744,    39,   265,  2236,   556,  2600, 31190, 10114,  6074,   488,\n          3282,   280,  1218,   498,  8426,  3282,  2074,  5614,   500,  6589,\n          1463, 10998,  8426,  2074, 20316,   488,  3857,  8932,  6074, 32278,\n           500,  6239,  2022,  1876,  6902,   481,  3371,   485,  1129,   500,\n           246,  1708,  7948,  1129,  9961,  3371,   485,  1129, 29561,   488,\n           557,  1250,   498,   246,  2855,   481,  3183,   485,  4097,   754,\n          5784, 22048,   481,  3183,   485,  2413,   481,  9638,   498,   246,\n          6711, 30656,  3304, 24948,   481,  3183,   485, 13259,   803,   498,\n           481,  4066,  5253, 23263,  2074,  3921,  5319,   556,  6875,  9807,\n           787,   249,  1056,   595, 25692, 22023,   504,   481,  9351,   498,\n          4115,  3184]),\n 'attention_mask': tensor([1, 1, 1, 1, 1, 1, 1, 1, 1, 1, 1, 1, 1, 1, 1, 1, 1, 1, 1, 1, 1, 1, 1, 1,\n         1, 1, 1, 1, 1, 1, 1, 1, 1, 1, 1, 1, 1, 1, 1, 1, 1, 1, 1, 1, 1, 1, 1, 1,\n         1, 1, 1, 1, 1, 1, 1, 1, 1, 1, 1, 1, 1, 1, 1, 1, 1, 1, 1, 1, 1, 1, 1, 1,\n         1, 1, 1, 1, 1, 1, 1, 1, 1, 1, 1, 1, 1, 1, 1, 1, 1, 1, 1, 1, 1, 1, 1, 1,\n         1, 1, 1, 1, 1, 1, 1, 1, 1, 1, 1, 1, 1, 1, 1, 1, 1, 1, 1, 1, 1, 1, 1, 1,\n         1, 1, 1, 1, 1, 1, 1, 1, 1, 1, 1, 1, 1, 1, 1, 1, 1, 1, 1, 1, 1, 1, 1, 1,\n         1, 1, 1, 1, 1, 1, 1, 1, 1, 1, 1, 1, 1, 1, 1, 1, 1, 1, 1, 1, 1, 1, 1, 1,\n         1, 1, 1, 1, 1, 1, 1, 1, 1, 1, 1, 1, 1, 1, 1, 1, 1, 1, 1, 1, 1, 1, 1, 1,\n         1, 1, 1, 1, 1, 1, 1, 1, 1, 1, 1, 1, 1, 1, 1, 1, 1, 1, 1, 1, 1, 1, 1, 1,\n         1, 1, 1, 1, 1, 1, 1, 1, 1, 1, 1, 1, 1, 1, 1, 1, 1, 1, 1, 1, 1, 1, 1, 1,\n         1, 1, 1, 1, 1, 1, 1, 1, 1, 1, 1, 1, 1, 1, 1, 1, 1, 1, 1, 1, 1, 1, 1, 1,\n         1, 1, 1, 1, 1, 1, 1, 1, 1, 1, 1, 1, 1, 1, 1, 1, 1, 1, 1, 1, 1, 1, 1, 1,\n         1, 1, 1, 1, 1, 1, 1, 1, 1, 1, 1, 1, 1, 1, 1, 1, 1, 1, 1, 1, 1, 1, 1, 1,\n         1, 1, 1, 1, 1, 1, 1, 1, 1, 1, 1, 1, 1, 1, 1, 1, 1, 1, 1, 1, 1, 1, 1, 1,\n         1, 1, 1, 1, 1, 1, 1, 1, 1, 1, 1, 1, 1, 1, 1, 1, 1, 1, 1, 1, 1, 1, 1, 1,\n         1, 1, 1, 1, 1, 1, 1, 1, 1, 1, 1, 1, 1, 1, 1, 1, 1, 1, 1, 1, 1, 1, 1, 1,\n         1, 1, 1, 1, 1, 1, 1, 1, 1, 1, 1, 1, 1, 1, 1, 1, 1, 1, 1, 1, 1, 1, 1, 1,\n         1, 1, 1, 1, 1, 1, 1, 1, 1, 1, 1, 1, 1, 1, 1, 1, 1, 1, 1, 1, 1, 1, 1, 1,\n         1, 1, 1, 1, 1, 1, 1, 1, 1, 1, 1, 1, 1, 1, 1, 1, 1, 1, 1, 1, 1, 1, 1, 1,\n         1, 1, 1, 1, 1, 1, 1, 1, 1, 1, 1, 1, 1, 1, 1, 1, 1, 1, 1, 1, 1, 1, 1, 1,\n         1, 1, 1, 1, 1, 1, 1, 1, 1, 1, 1, 1, 1, 1, 1, 1, 1, 1, 1, 1, 1, 1, 1, 1,\n         1, 1, 1, 1, 1, 1, 1, 1]),\n 'categorical_features': tensor([0., 0., 1., 0., 0., 0., 0., 0., 0., 0., 0., 0., 0., 0., 0., 0., 0., 0.,\n         0., 0., 0., 0., 0., 0., 0., 0., 0., 0., 0., 0., 0., 0., 0., 0., 0., 0.,\n         0., 0., 0., 0., 0., 0., 0., 0., 0., 0., 0., 0., 0., 0., 0., 0., 0., 0.,\n         0., 0., 0., 0., 0., 0., 0., 0., 0., 0., 0., 0., 0., 0., 0., 0., 0., 0.,\n         0., 0., 0., 0., 0., 0., 0., 0., 0., 0., 0., 0., 0., 0., 0., 0., 0., 0.,\n         0., 0., 0., 0., 0., 0., 0., 0., 0., 0., 0., 0., 0., 0., 0., 0., 0., 0.,\n         0., 0., 0., 0., 0., 0., 0., 0., 0., 0., 0., 0., 0., 0., 0., 0., 0., 1.,\n         0., 0., 0., 0., 0., 0., 0., 0., 0., 0., 0., 0., 0., 0., 0., 0., 0., 0.,\n         0., 0., 0., 0., 1., 0., 0., 0., 0., 0., 0., 0., 0., 0., 0., 0., 0., 0.,\n         0., 0., 0., 0., 0., 0., 0., 0., 0., 0., 0., 0., 0., 0., 0., 0., 0., 0.,\n         0., 0., 0., 0., 1., 0., 0., 0., 0., 0.]),\n 'labels': 80000.0}"
     },
     "execution_count": 7,
     "metadata": {},
     "output_type": "execute_result"
    }
   ],
   "source": [
    "train_dataset[0]"
   ]
  },
  {
   "cell_type": "code",
   "execution_count": 8,
   "id": "6025166c04034571",
   "metadata": {
    "collapsed": false,
    "ExecuteTime": {
     "end_time": "2024-04-18T10:13:27.500710Z",
     "start_time": "2024-04-18T10:13:26.237120Z"
    }
   },
   "outputs": [],
   "source": [
    "from gpt1 import GPT1\n",
    "\n",
    "model = GPT1(len(vocab_type) + len(vocab_industry) + len(vocab_state) + len(vocab_level))"
   ]
  },
  {
   "cell_type": "code",
   "execution_count": null,
   "id": "6db1dcc2",
   "metadata": {
    "is_executing": true,
    "ExecuteTime": {
     "start_time": "2024-04-18T10:13:27.503043Z"
    }
   },
   "outputs": [],
   "source": [
    "from src.models.gpt1 import train_model\n",
    "\n",
    "train_model(model, train_data=train_dataset, val_data=val_data)"
   ]
  },
  {
   "cell_type": "code",
   "outputs": [],
   "source": [],
   "metadata": {
    "collapsed": false,
    "is_executing": true
   },
   "id": "8aadc5af1063829b"
  }
 ],
 "metadata": {
  "kernelspec": {
   "display_name": "Python 3",
   "language": "python",
   "name": "python3"
  },
  "language_info": {
   "codemirror_mode": {
    "name": "ipython",
    "version": 3
   },
   "file_extension": ".py",
   "mimetype": "text/x-python",
   "name": "python",
   "nbconvert_exporter": "python",
   "pygments_lexer": "ipython3",
   "version": "3.11.8"
  }
 },
 "nbformat": 4,
 "nbformat_minor": 5
}
