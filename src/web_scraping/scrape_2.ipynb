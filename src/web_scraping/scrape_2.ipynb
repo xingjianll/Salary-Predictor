{
 "cells": [
  {
   "cell_type": "code",
   "execution_count": 12,
   "id": "initial_id",
   "metadata": {
    "collapsed": true,
    "ExecuteTime": {
     "end_time": "2024-04-14T14:38:31.141096Z",
     "start_time": "2024-04-14T14:38:31.086192Z"
    }
   },
   "outputs": [],
   "source": [
    "from helper import scrape_helper, HOT_JOBS_2\n",
    "import csv\n",
    "import pandas as pd"
   ]
  },
  {
   "cell_type": "code",
   "outputs": [],
   "source": [
    "# run following if something is not working\n",
    "# python -m ipykernel install --user\n",
    "# then restart jupyter"
   ],
   "metadata": {
    "collapsed": false,
    "ExecuteTime": {
     "end_time": "2024-04-14T14:38:31.787504Z",
     "start_time": "2024-04-14T14:38:31.783262Z"
    }
   },
   "id": "ef69db27f64412e0",
   "execution_count": 13
  },
  {
   "cell_type": "code",
   "outputs": [],
   "source": [
    "jobs_by_title = []\n",
    "for title in HOT_JOBS_2:\n",
    "        jobs = scrape_helper(title, offset=0, amount=100)\n",
    "        jobs_by_title.append(jobs)\n",
    "\n",
    "jobs = jobs_by_title[0]\n",
    "for job in jobs_by_title[1:]:\n",
    "        jobs = pd.concat([jobs, job], axis=0)\n",
    "\n",
    "\n",
    "print(f\"there are in total {len(jobs)} jobs scraped\")\n",
    "jobs.to_csv(\"jobs2.csv\", quoting=csv.QUOTE_NONNUMERIC, escapechar=\"\\\\\", index=True) "
   ],
   "metadata": {
    "collapsed": false
   },
   "id": "37f9e6d370fa88b5",
   "execution_count": null
  },
  {
   "cell_type": "code",
   "outputs": [],
   "source": [],
   "metadata": {
    "collapsed": false
   },
   "id": "4d7f39264baffcd5"
  }
 ],
 "metadata": {
  "kernelspec": {
   "display_name": "Python 3",
   "language": "python",
   "name": "python3"
  },
  "language_info": {
   "codemirror_mode": {
    "name": "ipython",
    "version": 2
   },
   "file_extension": ".py",
   "mimetype": "text/x-python",
   "name": "python",
   "nbconvert_exporter": "python",
   "pygments_lexer": "ipython2",
   "version": "2.7.6"
  }
 },
 "nbformat": 4,
 "nbformat_minor": 5
}
