{
 "cells": [
  {
   "cell_type": "code",
   "execution_count": 2,
   "id": "initial_id",
   "metadata": {
    "collapsed": true,
    "ExecuteTime": {
     "end_time": "2024-04-14T14:45:45.613836Z",
     "start_time": "2024-04-14T14:45:44.697044Z"
    }
   },
   "outputs": [],
   "source": [
    "from helper import scrape_helper, OTHER_JOBS\n",
    "import csv\n",
    "import pandas as pd\n",
    "\n",
    "import time\n"
   ]
  },
  {
   "cell_type": "code",
   "outputs": [],
   "source": [
    "# run following if something is not working\n",
    "# python -m ipykernel install --user\n",
    "# then restart jupyter"
   ],
   "metadata": {
    "collapsed": false,
    "ExecuteTime": {
     "end_time": "2024-04-14T14:45:46.146425Z",
     "start_time": "2024-04-14T14:45:46.143345Z"
    }
   },
   "id": "ef69db27f64412e0",
   "execution_count": 3
  },
  {
   "cell_type": "code",
   "outputs": [
    {
     "name": "stderr",
     "output_type": "stream",
     "text": [
      "2024-04-14 10:46:50,688 - JobSpy - INFO - Indeed search page: 1\n",
      "2024-04-14 10:46:50,690 - JobSpy - INFO - LinkedIn search page: 1\n",
      "2024-04-14 10:46:50,805 - JobSpy - INFO - ZipRecruiter search page: 1\n",
      "2024-04-14 10:46:51,626 - JobSpy - INFO - Indeed finished scraping\n",
      "2024-04-14 10:46:52,780 - JobSpy - INFO - Glassdoor search page: 1\n",
      "2024-04-14 10:46:54,549 - JobSpy - INFO - Glassdoor search page: 2\n",
      "2024-04-14 10:46:56,303 - JobSpy - INFO - LinkedIn search page: 2\n",
      "2024-04-14 10:46:56,632 - JobSpy - INFO - ZipRecruiter search page: 2\n",
      "2024-04-14 10:46:56,986 - JobSpy - INFO - Glassdoor finished scraping\n",
      "2024-04-14 10:46:58,047 - JobSpy - INFO - ZipRecruiter finished scraping\n",
      "2024-04-14 10:47:26,755 - JobSpy - ERROR - LinkedIn: HTTPSConnectionPool(host='www.linkedin.com', port=443): Max retries exceeded with url: /jobs-guest/jobs/api/seeMoreJobPostings/search?keywords=Content+Writer&location=United+States&distance=50&pageNum=0&start=25&f_TPR=r604800 (Caused by ResponseError('too many 429 error responses'))\n",
      "2024-04-14 10:47:26,762 - JobSpy - INFO - Linkedin finished scraping\n",
      "2024-04-14 10:47:42,105 - JobSpy - INFO - Indeed search page: 1\n",
      "2024-04-14 10:47:42,106 - JobSpy - INFO - LinkedIn search page: 1\n",
      "2024-04-14 10:47:42,220 - JobSpy - INFO - ZipRecruiter search page: 1\n",
      "2024-04-14 10:47:43,057 - JobSpy - INFO - Indeed finished scraping\n",
      "2024-04-14 10:47:44,244 - JobSpy - INFO - Glassdoor search page: 1\n",
      "2024-04-14 10:47:46,724 - JobSpy - INFO - Glassdoor search page: 2\n",
      "2024-04-14 10:47:48,052 - JobSpy - INFO - ZipRecruiter search page: 2\n",
      "2024-04-14 10:47:48,192 - JobSpy - INFO - LinkedIn search page: 2\n",
      "2024-04-14 10:47:48,818 - JobSpy - INFO - Glassdoor finished scraping\n",
      "2024-04-14 10:47:49,725 - JobSpy - INFO - ZipRecruiter finished scraping\n",
      "2024-04-14 10:48:02,653 - JobSpy - INFO - LinkedIn search page: 3\n",
      "2024-04-14 10:48:08,875 - JobSpy - INFO - LinkedIn search page: 4\n",
      "2024-04-14 10:48:13,478 - JobSpy - INFO - LinkedIn search page: 5\n",
      "2024-04-14 10:48:44,583 - JobSpy - INFO - Linkedin finished scraping\n"
     ]
    },
    {
     "name": "stdout",
     "output_type": "stream",
     "text": [
      "there are in total 290 jobs scraped\n"
     ]
    }
   ],
   "source": [
    "jobs_by_title = []\n",
    "n = 0\n",
    "for title in OTHER_JOBS:\n",
    "        jobs = scrape_helper(title, offset=0, amount=40)\n",
    "        jobs_by_title.append(jobs)\n",
    "\n",
    "jobs = jobs_by_title[0]\n",
    "for job in jobs_by_title[1:]:\n",
    "        jobs = pd.concat([jobs, job], axis=0)\n",
    "\n",
    "\n",
    "print(f\"there are in total {len(jobs)} jobs scraped\")\n",
    "jobs.to_csv(\"jobs3.csv\", quoting=csv.QUOTE_NONNUMERIC, escapechar=\"\\\\\", index=True) "
   ],
   "metadata": {
    "collapsed": false,
    "ExecuteTime": {
     "end_time": "2024-04-14T14:49:00.133702Z",
     "start_time": "2024-04-14T14:46:50.683596Z"
    }
   },
   "id": "37f9e6d370fa88b5",
   "execution_count": 5
  },
  {
   "cell_type": "code",
   "outputs": [],
   "source": [],
   "metadata": {
    "collapsed": false
   },
   "id": "4d7f39264baffcd5"
  }
 ],
 "metadata": {
  "kernelspec": {
   "display_name": "Python 3",
   "language": "python",
   "name": "python3"
  },
  "language_info": {
   "codemirror_mode": {
    "name": "ipython",
    "version": 2
   },
   "file_extension": ".py",
   "mimetype": "text/x-python",
   "name": "python",
   "nbconvert_exporter": "python",
   "pygments_lexer": "ipython2",
   "version": "2.7.6"
  }
 },
 "nbformat": 4,
 "nbformat_minor": 5
}
