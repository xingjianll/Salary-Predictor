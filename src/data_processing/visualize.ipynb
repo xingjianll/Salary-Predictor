{
 "cells": [
  {
   "cell_type": "code",
   "execution_count": 7,
   "id": "initial_id",
   "metadata": {
    "collapsed": true,
    "ExecuteTime": {
     "end_time": "2024-04-17T11:01:11.361475Z",
     "start_time": "2024-04-17T11:01:10.416033Z"
    }
   },
   "outputs": [
    {
     "data": {
      "text/plain": "       company_id                              name  \\\n0        553718.0                       HearingLife   \n1      18213359.0  Episcopal Communities & Services   \n2      18213359.0  Episcopal Communities & Services   \n3        437225.0                        iHerb, LLC   \n4      18213359.0  Episcopal Communities & Services   \n...           ...                               ...   \n18452         NaN                               NaN   \n18453     61469.0   United Staffing Solutions (USS)   \n18454   3894635.0                   Sunnyland Farms   \n18455         NaN                               NaN   \n18456    630152.0                 Karen Marie Salon   \n\n                                 industry  \\\n0                                  Retail   \n1      Non-profit Organization Management   \n2                Non-profit Organizations   \n3                                  Retail   \n4      Non-profit Organization Management   \n...                                   ...   \n18452                                 NaN   \n18453               Staffing & Recruiting   \n18454                              Retail   \n18455                                 NaN   \n18456                   Consumer Services   \n\n                                   cleaned_title  \\\n0                          hearing care provider   \n1                                           cook   \n2                                           cook   \n3      principal cloud security architect remote   \n4                                     dishwasher   \n...                                          ...   \n18452                mental health practitioners   \n18453             registered nurse rn vaccinator   \n18454                           office associate   \n18455                   licensed insurance agent   \n18456                            stylist clorist   \n\n                                     cleaned_description          location  \\\n0      overview HearingLife national hearing care com...  Little River, SC   \n1      descriptiontitle look great opportunity develo...   Aliso Viejo, CA   \n2      descriptiontitle look great opportunity develo...   Aliso Viejo, CA   \n3      Job Summary iHerb mission health wellness acce...     United States   \n4      descriptiontitle sign Bonus guarantee look foo...   Aliso Viejo, CA   \n...                                                  ...               ...   \n18452  Gail Yost Associates hire time license mental ...   Minneapolis, MN   \n18453  United Staffing Solutions partner big covid va...      Muskegon, MI   \n18454  provide clerical administrative support manage...        Albany, GA   \n18455  industry hurt year people need insurance posit...         Chico, CA   \n18456  Karen Marie look awesome experienced stylist l...       Chicago, IL   \n\n      formatted_experience_level  standardized_annual_salary  \\\n0                    Entry level                     63000.0   \n1                    Entry level                     46321.6   \n2                    Entry level                     46321.6   \n3               Mid-Senior level                    240895.0   \n4                    Entry level                     40144.0   \n...                          ...                         ...   \n18452                        NaN                    100000.0   \n18453                        NaN                    104000.0   \n18454                        NaN                     39500.0   \n18455                        NaN                     48880.0   \n18456                        NaN                     57500.0   \n\n                                               title_emb  \n0      [0. 0. 0. 0. 0. 0. 0. 0. 0. 0. 0. 0. 0. 0. 0. ...  \n1                                                    0.0  \n2                                                    0.0  \n3      [0. 0. 0. 0. 0. 0. 0. 0. 0. 0. 0. 0. 0. 0. 0. ...  \n4                                                    0.0  \n...                                                  ...  \n18452  [0. 0. 0. 0. 0. 0. 0. 0. 0. 0. 0. 0. 0. 0. 0. ...  \n18453  [0. 0. 0. 0. 0. 0. 0. 0. 0. 0. 0. 1. 0. 0. 0. ...  \n18454  [0. 0. 0. 0. 0. 1. 0. 0. 0. 0. 0. 0. 0. 0. 0. ...  \n18455  [0. 0. 0. 0. 0. 0. 0. 0. 0. 0. 0. 0. 0. 0. 0. ...  \n18456                                                0.0  \n\n[18457 rows x 9 columns]",
      "text/html": "<div>\n<style scoped>\n    .dataframe tbody tr th:only-of-type {\n        vertical-align: middle;\n    }\n\n    .dataframe tbody tr th {\n        vertical-align: top;\n    }\n\n    .dataframe thead th {\n        text-align: right;\n    }\n</style>\n<table border=\"1\" class=\"dataframe\">\n  <thead>\n    <tr style=\"text-align: right;\">\n      <th></th>\n      <th>company_id</th>\n      <th>name</th>\n      <th>industry</th>\n      <th>cleaned_title</th>\n      <th>cleaned_description</th>\n      <th>location</th>\n      <th>formatted_experience_level</th>\n      <th>standardized_annual_salary</th>\n      <th>title_emb</th>\n    </tr>\n  </thead>\n  <tbody>\n    <tr>\n      <th>0</th>\n      <td>553718.0</td>\n      <td>HearingLife</td>\n      <td>Retail</td>\n      <td>hearing care provider</td>\n      <td>overview HearingLife national hearing care com...</td>\n      <td>Little River, SC</td>\n      <td>Entry level</td>\n      <td>63000.0</td>\n      <td>[0. 0. 0. 0. 0. 0. 0. 0. 0. 0. 0. 0. 0. 0. 0. ...</td>\n    </tr>\n    <tr>\n      <th>1</th>\n      <td>18213359.0</td>\n      <td>Episcopal Communities &amp; Services</td>\n      <td>Non-profit Organization Management</td>\n      <td>cook</td>\n      <td>descriptiontitle look great opportunity develo...</td>\n      <td>Aliso Viejo, CA</td>\n      <td>Entry level</td>\n      <td>46321.6</td>\n      <td>0.0</td>\n    </tr>\n    <tr>\n      <th>2</th>\n      <td>18213359.0</td>\n      <td>Episcopal Communities &amp; Services</td>\n      <td>Non-profit Organizations</td>\n      <td>cook</td>\n      <td>descriptiontitle look great opportunity develo...</td>\n      <td>Aliso Viejo, CA</td>\n      <td>Entry level</td>\n      <td>46321.6</td>\n      <td>0.0</td>\n    </tr>\n    <tr>\n      <th>3</th>\n      <td>437225.0</td>\n      <td>iHerb, LLC</td>\n      <td>Retail</td>\n      <td>principal cloud security architect remote</td>\n      <td>Job Summary iHerb mission health wellness acce...</td>\n      <td>United States</td>\n      <td>Mid-Senior level</td>\n      <td>240895.0</td>\n      <td>[0. 0. 0. 0. 0. 0. 0. 0. 0. 0. 0. 0. 0. 0. 0. ...</td>\n    </tr>\n    <tr>\n      <th>4</th>\n      <td>18213359.0</td>\n      <td>Episcopal Communities &amp; Services</td>\n      <td>Non-profit Organization Management</td>\n      <td>dishwasher</td>\n      <td>descriptiontitle sign Bonus guarantee look foo...</td>\n      <td>Aliso Viejo, CA</td>\n      <td>Entry level</td>\n      <td>40144.0</td>\n      <td>0.0</td>\n    </tr>\n    <tr>\n      <th>...</th>\n      <td>...</td>\n      <td>...</td>\n      <td>...</td>\n      <td>...</td>\n      <td>...</td>\n      <td>...</td>\n      <td>...</td>\n      <td>...</td>\n      <td>...</td>\n    </tr>\n    <tr>\n      <th>18452</th>\n      <td>NaN</td>\n      <td>NaN</td>\n      <td>NaN</td>\n      <td>mental health practitioners</td>\n      <td>Gail Yost Associates hire time license mental ...</td>\n      <td>Minneapolis, MN</td>\n      <td>NaN</td>\n      <td>100000.0</td>\n      <td>[0. 0. 0. 0. 0. 0. 0. 0. 0. 0. 0. 0. 0. 0. 0. ...</td>\n    </tr>\n    <tr>\n      <th>18453</th>\n      <td>61469.0</td>\n      <td>United Staffing Solutions (USS)</td>\n      <td>Staffing &amp; Recruiting</td>\n      <td>registered nurse rn vaccinator</td>\n      <td>United Staffing Solutions partner big covid va...</td>\n      <td>Muskegon, MI</td>\n      <td>NaN</td>\n      <td>104000.0</td>\n      <td>[0. 0. 0. 0. 0. 0. 0. 0. 0. 0. 0. 1. 0. 0. 0. ...</td>\n    </tr>\n    <tr>\n      <th>18454</th>\n      <td>3894635.0</td>\n      <td>Sunnyland Farms</td>\n      <td>Retail</td>\n      <td>office associate</td>\n      <td>provide clerical administrative support manage...</td>\n      <td>Albany, GA</td>\n      <td>NaN</td>\n      <td>39500.0</td>\n      <td>[0. 0. 0. 0. 0. 1. 0. 0. 0. 0. 0. 0. 0. 0. 0. ...</td>\n    </tr>\n    <tr>\n      <th>18455</th>\n      <td>NaN</td>\n      <td>NaN</td>\n      <td>NaN</td>\n      <td>licensed insurance agent</td>\n      <td>industry hurt year people need insurance posit...</td>\n      <td>Chico, CA</td>\n      <td>NaN</td>\n      <td>48880.0</td>\n      <td>[0. 0. 0. 0. 0. 0. 0. 0. 0. 0. 0. 0. 0. 0. 0. ...</td>\n    </tr>\n    <tr>\n      <th>18456</th>\n      <td>630152.0</td>\n      <td>Karen Marie Salon</td>\n      <td>Consumer Services</td>\n      <td>stylist clorist</td>\n      <td>Karen Marie look awesome experienced stylist l...</td>\n      <td>Chicago, IL</td>\n      <td>NaN</td>\n      <td>57500.0</td>\n      <td>0.0</td>\n    </tr>\n  </tbody>\n</table>\n<p>18457 rows × 9 columns</p>\n</div>"
     },
     "execution_count": 7,
     "metadata": {},
     "output_type": "execute_result"
    }
   ],
   "source": [
    "import pandas as pd\n",
    "from matplotlib import pyplot as plt\n",
    "import seaborn as sns\n",
    "\n",
    "data = pd.read_csv(\"../data/processed_job_postings.csv\")\n",
    "data"
   ]
  },
  {
   "cell_type": "code",
   "outputs": [
    {
     "ename": "KeyError",
     "evalue": "'salary_level'",
     "output_type": "error",
     "traceback": [
      "\u001B[0;31m---------------------------------------------------------------------------\u001B[0m",
      "\u001B[0;31mKeyError\u001B[0m                                  Traceback (most recent call last)",
      "File \u001B[0;32m~/PycharmProjects/Salary-Predictor/.venv/lib/python3.11/site-packages/pandas/core/indexes/base.py:3805\u001B[0m, in \u001B[0;36mIndex.get_loc\u001B[0;34m(self, key)\u001B[0m\n\u001B[1;32m   3804\u001B[0m \u001B[38;5;28;01mtry\u001B[39;00m:\n\u001B[0;32m-> 3805\u001B[0m     \u001B[38;5;28;01mreturn\u001B[39;00m \u001B[38;5;28;43mself\u001B[39;49m\u001B[38;5;241;43m.\u001B[39;49m\u001B[43m_engine\u001B[49m\u001B[38;5;241;43m.\u001B[39;49m\u001B[43mget_loc\u001B[49m\u001B[43m(\u001B[49m\u001B[43mcasted_key\u001B[49m\u001B[43m)\u001B[49m\n\u001B[1;32m   3806\u001B[0m \u001B[38;5;28;01mexcept\u001B[39;00m \u001B[38;5;167;01mKeyError\u001B[39;00m \u001B[38;5;28;01mas\u001B[39;00m err:\n",
      "File \u001B[0;32mindex.pyx:167\u001B[0m, in \u001B[0;36mpandas._libs.index.IndexEngine.get_loc\u001B[0;34m()\u001B[0m\n",
      "File \u001B[0;32mindex.pyx:196\u001B[0m, in \u001B[0;36mpandas._libs.index.IndexEngine.get_loc\u001B[0;34m()\u001B[0m\n",
      "File \u001B[0;32mpandas/_libs/hashtable_class_helper.pxi:7081\u001B[0m, in \u001B[0;36mpandas._libs.hashtable.PyObjectHashTable.get_item\u001B[0;34m()\u001B[0m\n",
      "File \u001B[0;32mpandas/_libs/hashtable_class_helper.pxi:7089\u001B[0m, in \u001B[0;36mpandas._libs.hashtable.PyObjectHashTable.get_item\u001B[0;34m()\u001B[0m\n",
      "\u001B[0;31mKeyError\u001B[0m: 'salary_level'",
      "\nThe above exception was the direct cause of the following exception:\n",
      "\u001B[0;31mKeyError\u001B[0m                                  Traceback (most recent call last)",
      "Cell \u001B[0;32mIn[8], line 6\u001B[0m\n\u001B[1;32m      4\u001B[0m \u001B[38;5;66;03m# Plot to visualize the count of job postings in each salary bin\u001B[39;00m\n\u001B[1;32m      5\u001B[0m plt\u001B[38;5;241m.\u001B[39mfigure(figsize\u001B[38;5;241m=\u001B[39m(\u001B[38;5;241m12\u001B[39m, \u001B[38;5;241m8\u001B[39m))\n\u001B[0;32m----> 6\u001B[0m ax \u001B[38;5;241m=\u001B[39m sns\u001B[38;5;241m.\u001B[39mcountplot(data\u001B[38;5;241m=\u001B[39mdata, y\u001B[38;5;241m=\u001B[39m\u001B[38;5;124m'\u001B[39m\u001B[38;5;124msalary_level\u001B[39m\u001B[38;5;124m'\u001B[39m, order\u001B[38;5;241m=\u001B[39m\u001B[43mdata\u001B[49m\u001B[43m[\u001B[49m\u001B[38;5;124;43m'\u001B[39;49m\u001B[38;5;124;43msalary_level\u001B[39;49m\u001B[38;5;124;43m'\u001B[39;49m\u001B[43m]\u001B[49m\u001B[38;5;241m.\u001B[39mcat\u001B[38;5;241m.\u001B[39mcategories)\n\u001B[1;32m      7\u001B[0m plt\u001B[38;5;241m.\u001B[39mtitle(\u001B[38;5;124m'\u001B[39m\u001B[38;5;124mDistribution of Job Postings by Salary Level\u001B[39m\u001B[38;5;124m'\u001B[39m)\n\u001B[1;32m      8\u001B[0m plt\u001B[38;5;241m.\u001B[39mxlabel(\u001B[38;5;124m'\u001B[39m\u001B[38;5;124mNumber of Job Postings\u001B[39m\u001B[38;5;124m'\u001B[39m)\n",
      "File \u001B[0;32m~/PycharmProjects/Salary-Predictor/.venv/lib/python3.11/site-packages/pandas/core/frame.py:4102\u001B[0m, in \u001B[0;36mDataFrame.__getitem__\u001B[0;34m(self, key)\u001B[0m\n\u001B[1;32m   4100\u001B[0m \u001B[38;5;28;01mif\u001B[39;00m \u001B[38;5;28mself\u001B[39m\u001B[38;5;241m.\u001B[39mcolumns\u001B[38;5;241m.\u001B[39mnlevels \u001B[38;5;241m>\u001B[39m \u001B[38;5;241m1\u001B[39m:\n\u001B[1;32m   4101\u001B[0m     \u001B[38;5;28;01mreturn\u001B[39;00m \u001B[38;5;28mself\u001B[39m\u001B[38;5;241m.\u001B[39m_getitem_multilevel(key)\n\u001B[0;32m-> 4102\u001B[0m indexer \u001B[38;5;241m=\u001B[39m \u001B[38;5;28;43mself\u001B[39;49m\u001B[38;5;241;43m.\u001B[39;49m\u001B[43mcolumns\u001B[49m\u001B[38;5;241;43m.\u001B[39;49m\u001B[43mget_loc\u001B[49m\u001B[43m(\u001B[49m\u001B[43mkey\u001B[49m\u001B[43m)\u001B[49m\n\u001B[1;32m   4103\u001B[0m \u001B[38;5;28;01mif\u001B[39;00m is_integer(indexer):\n\u001B[1;32m   4104\u001B[0m     indexer \u001B[38;5;241m=\u001B[39m [indexer]\n",
      "File \u001B[0;32m~/PycharmProjects/Salary-Predictor/.venv/lib/python3.11/site-packages/pandas/core/indexes/base.py:3812\u001B[0m, in \u001B[0;36mIndex.get_loc\u001B[0;34m(self, key)\u001B[0m\n\u001B[1;32m   3807\u001B[0m     \u001B[38;5;28;01mif\u001B[39;00m \u001B[38;5;28misinstance\u001B[39m(casted_key, \u001B[38;5;28mslice\u001B[39m) \u001B[38;5;129;01mor\u001B[39;00m (\n\u001B[1;32m   3808\u001B[0m         \u001B[38;5;28misinstance\u001B[39m(casted_key, abc\u001B[38;5;241m.\u001B[39mIterable)\n\u001B[1;32m   3809\u001B[0m         \u001B[38;5;129;01mand\u001B[39;00m \u001B[38;5;28many\u001B[39m(\u001B[38;5;28misinstance\u001B[39m(x, \u001B[38;5;28mslice\u001B[39m) \u001B[38;5;28;01mfor\u001B[39;00m x \u001B[38;5;129;01min\u001B[39;00m casted_key)\n\u001B[1;32m   3810\u001B[0m     ):\n\u001B[1;32m   3811\u001B[0m         \u001B[38;5;28;01mraise\u001B[39;00m InvalidIndexError(key)\n\u001B[0;32m-> 3812\u001B[0m     \u001B[38;5;28;01mraise\u001B[39;00m \u001B[38;5;167;01mKeyError\u001B[39;00m(key) \u001B[38;5;28;01mfrom\u001B[39;00m \u001B[38;5;21;01merr\u001B[39;00m\n\u001B[1;32m   3813\u001B[0m \u001B[38;5;28;01mexcept\u001B[39;00m \u001B[38;5;167;01mTypeError\u001B[39;00m:\n\u001B[1;32m   3814\u001B[0m     \u001B[38;5;66;03m# If we have a listlike key, _check_indexing_error will raise\u001B[39;00m\n\u001B[1;32m   3815\u001B[0m     \u001B[38;5;66;03m#  InvalidIndexError. Otherwise we fall through and re-raise\u001B[39;00m\n\u001B[1;32m   3816\u001B[0m     \u001B[38;5;66;03m#  the TypeError.\u001B[39;00m\n\u001B[1;32m   3817\u001B[0m     \u001B[38;5;28mself\u001B[39m\u001B[38;5;241m.\u001B[39m_check_indexing_error(key)\n",
      "\u001B[0;31mKeyError\u001B[0m: 'salary_level'"
     ]
    },
    {
     "data": {
      "text/plain": "<Figure size 1200x800 with 0 Axes>"
     },
     "metadata": {},
     "output_type": "display_data"
    }
   ],
   "source": [
    "\n",
    "\n",
    "# Set the aesthetic style of the plots\n",
    "sns.set_style(\"whitegrid\")\n",
    "\n",
    "# Plot to visualize the count of job postings in each salary bin\n",
    "plt.figure(figsize=(12, 8))\n",
    "ax = sns.countplot(data=data, y='salary_level', order=data['salary_level'].cat.categories)\n",
    "plt.title('Distribution of Job Postings by Salary Level')\n",
    "plt.xlabel('Number of Job Postings')\n",
    "plt.ylabel('Salary Level')\n",
    "plt.tight_layout()\n",
    "\n",
    "# Add labels to each bar\n",
    "for p in ax.patches:\n",
    "    width = p.get_width()\n",
    "    plt.text(width + 3, p.get_y() + p.get_height() / 2,\n",
    "             f'{int(width)}',\n",
    "             va='center')\n",
    "\n",
    "# Show the plot\n",
    "plt.show()"
   ],
   "metadata": {
    "collapsed": false,
    "ExecuteTime": {
     "end_time": "2024-04-17T11:01:12.073688Z",
     "start_time": "2024-04-17T11:01:11.906231Z"
    }
   },
   "id": "920788fbb00b1b93",
   "execution_count": 8
  },
  {
   "cell_type": "code",
   "outputs": [
    {
     "ename": "KeyError",
     "evalue": "'work_type'",
     "output_type": "error",
     "traceback": [
      "\u001B[0;31m---------------------------------------------------------------------------\u001B[0m",
      "\u001B[0;31mKeyError\u001B[0m                                  Traceback (most recent call last)",
      "File \u001B[0;32m~/PycharmProjects/Salary-Predictor/.venv/lib/python3.11/site-packages/pandas/core/indexes/base.py:3805\u001B[0m, in \u001B[0;36mIndex.get_loc\u001B[0;34m(self, key)\u001B[0m\n\u001B[1;32m   3804\u001B[0m \u001B[38;5;28;01mtry\u001B[39;00m:\n\u001B[0;32m-> 3805\u001B[0m     \u001B[38;5;28;01mreturn\u001B[39;00m \u001B[38;5;28;43mself\u001B[39;49m\u001B[38;5;241;43m.\u001B[39;49m\u001B[43m_engine\u001B[49m\u001B[38;5;241;43m.\u001B[39;49m\u001B[43mget_loc\u001B[49m\u001B[43m(\u001B[49m\u001B[43mcasted_key\u001B[49m\u001B[43m)\u001B[49m\n\u001B[1;32m   3806\u001B[0m \u001B[38;5;28;01mexcept\u001B[39;00m \u001B[38;5;167;01mKeyError\u001B[39;00m \u001B[38;5;28;01mas\u001B[39;00m err:\n",
      "File \u001B[0;32mindex.pyx:167\u001B[0m, in \u001B[0;36mpandas._libs.index.IndexEngine.get_loc\u001B[0;34m()\u001B[0m\n",
      "File \u001B[0;32mindex.pyx:196\u001B[0m, in \u001B[0;36mpandas._libs.index.IndexEngine.get_loc\u001B[0;34m()\u001B[0m\n",
      "File \u001B[0;32mpandas/_libs/hashtable_class_helper.pxi:7081\u001B[0m, in \u001B[0;36mpandas._libs.hashtable.PyObjectHashTable.get_item\u001B[0;34m()\u001B[0m\n",
      "File \u001B[0;32mpandas/_libs/hashtable_class_helper.pxi:7089\u001B[0m, in \u001B[0;36mpandas._libs.hashtable.PyObjectHashTable.get_item\u001B[0;34m()\u001B[0m\n",
      "\u001B[0;31mKeyError\u001B[0m: 'work_type'",
      "\nThe above exception was the direct cause of the following exception:\n",
      "\u001B[0;31mKeyError\u001B[0m                                  Traceback (most recent call last)",
      "Cell \u001B[0;32mIn[4], line 14\u001B[0m\n\u001B[1;32m     11\u001B[0m     plt\u001B[38;5;241m.\u001B[39mgrid(\u001B[38;5;28;01mTrue\u001B[39;00m)\n\u001B[1;32m     12\u001B[0m     plt\u001B[38;5;241m.\u001B[39mshow()\n\u001B[0;32m---> 14\u001B[0m pay_periods \u001B[38;5;241m=\u001B[39m \u001B[43mdata\u001B[49m\u001B[43m[\u001B[49m\u001B[38;5;124;43m'\u001B[39;49m\u001B[38;5;124;43mwork_type\u001B[39;49m\u001B[38;5;124;43m'\u001B[39;49m\u001B[43m]\u001B[49m\u001B[38;5;241m.\u001B[39munique()\n\u001B[1;32m     16\u001B[0m \u001B[38;5;66;03m# Generate a histogram for each pay period\u001B[39;00m\n\u001B[1;32m     17\u001B[0m \u001B[38;5;28;01mfor\u001B[39;00m period \u001B[38;5;129;01min\u001B[39;00m pay_periods:\n",
      "File \u001B[0;32m~/PycharmProjects/Salary-Predictor/.venv/lib/python3.11/site-packages/pandas/core/frame.py:4102\u001B[0m, in \u001B[0;36mDataFrame.__getitem__\u001B[0;34m(self, key)\u001B[0m\n\u001B[1;32m   4100\u001B[0m \u001B[38;5;28;01mif\u001B[39;00m \u001B[38;5;28mself\u001B[39m\u001B[38;5;241m.\u001B[39mcolumns\u001B[38;5;241m.\u001B[39mnlevels \u001B[38;5;241m>\u001B[39m \u001B[38;5;241m1\u001B[39m:\n\u001B[1;32m   4101\u001B[0m     \u001B[38;5;28;01mreturn\u001B[39;00m \u001B[38;5;28mself\u001B[39m\u001B[38;5;241m.\u001B[39m_getitem_multilevel(key)\n\u001B[0;32m-> 4102\u001B[0m indexer \u001B[38;5;241m=\u001B[39m \u001B[38;5;28;43mself\u001B[39;49m\u001B[38;5;241;43m.\u001B[39;49m\u001B[43mcolumns\u001B[49m\u001B[38;5;241;43m.\u001B[39;49m\u001B[43mget_loc\u001B[49m\u001B[43m(\u001B[49m\u001B[43mkey\u001B[49m\u001B[43m)\u001B[49m\n\u001B[1;32m   4103\u001B[0m \u001B[38;5;28;01mif\u001B[39;00m is_integer(indexer):\n\u001B[1;32m   4104\u001B[0m     indexer \u001B[38;5;241m=\u001B[39m [indexer]\n",
      "File \u001B[0;32m~/PycharmProjects/Salary-Predictor/.venv/lib/python3.11/site-packages/pandas/core/indexes/base.py:3812\u001B[0m, in \u001B[0;36mIndex.get_loc\u001B[0;34m(self, key)\u001B[0m\n\u001B[1;32m   3807\u001B[0m     \u001B[38;5;28;01mif\u001B[39;00m \u001B[38;5;28misinstance\u001B[39m(casted_key, \u001B[38;5;28mslice\u001B[39m) \u001B[38;5;129;01mor\u001B[39;00m (\n\u001B[1;32m   3808\u001B[0m         \u001B[38;5;28misinstance\u001B[39m(casted_key, abc\u001B[38;5;241m.\u001B[39mIterable)\n\u001B[1;32m   3809\u001B[0m         \u001B[38;5;129;01mand\u001B[39;00m \u001B[38;5;28many\u001B[39m(\u001B[38;5;28misinstance\u001B[39m(x, \u001B[38;5;28mslice\u001B[39m) \u001B[38;5;28;01mfor\u001B[39;00m x \u001B[38;5;129;01min\u001B[39;00m casted_key)\n\u001B[1;32m   3810\u001B[0m     ):\n\u001B[1;32m   3811\u001B[0m         \u001B[38;5;28;01mraise\u001B[39;00m InvalidIndexError(key)\n\u001B[0;32m-> 3812\u001B[0m     \u001B[38;5;28;01mraise\u001B[39;00m \u001B[38;5;167;01mKeyError\u001B[39;00m(key) \u001B[38;5;28;01mfrom\u001B[39;00m \u001B[38;5;21;01merr\u001B[39;00m\n\u001B[1;32m   3813\u001B[0m \u001B[38;5;28;01mexcept\u001B[39;00m \u001B[38;5;167;01mTypeError\u001B[39;00m:\n\u001B[1;32m   3814\u001B[0m     \u001B[38;5;66;03m# If we have a listlike key, _check_indexing_error will raise\u001B[39;00m\n\u001B[1;32m   3815\u001B[0m     \u001B[38;5;66;03m#  InvalidIndexError. Otherwise we fall through and re-raise\u001B[39;00m\n\u001B[1;32m   3816\u001B[0m     \u001B[38;5;66;03m#  the TypeError.\u001B[39;00m\n\u001B[1;32m   3817\u001B[0m     \u001B[38;5;28mself\u001B[39m\u001B[38;5;241m.\u001B[39m_check_indexing_error(key)\n",
      "\u001B[0;31mKeyError\u001B[0m: 'work_type'"
     ]
    }
   ],
   "source": [
    "def plot_salary_by_pay_period(data, pay_period):\n",
    "    # Filter data for the specific pay period\n",
    "    subset = data[data['work_type'] == pay_period]\n",
    "    \n",
    "    # Create a histogram for the filtered data\n",
    "    plt.figure(figsize=(10, 6))\n",
    "    plt.hist(subset['standardized_annual_salary'], bins=20, color='skyblue', edgecolor='black')\n",
    "    plt.title(f'Histogram of Salaries - {pay_period}')\n",
    "    plt.xlabel('Standardized Annual Salary ($)')\n",
    "    plt.ylabel('Number of Job Postings')\n",
    "    plt.grid(True)\n",
    "    plt.show()\n",
    "\n",
    "pay_periods = data['work_type'].unique()\n",
    "\n",
    "# Generate a histogram for each pay period\n",
    "for period in pay_periods:\n",
    "    plot_salary_by_pay_period(data, period)"
   ],
   "metadata": {
    "collapsed": false,
    "ExecuteTime": {
     "end_time": "2024-04-17T09:07:50.588994Z",
     "start_time": "2024-04-17T09:07:50.451168Z"
    }
   },
   "id": "59eab229259949bd",
   "execution_count": 4
  },
  {
   "cell_type": "code",
   "outputs": [],
   "source": [],
   "metadata": {
    "collapsed": false
   },
   "id": "a244cadd554300ce"
  }
 ],
 "metadata": {
  "kernelspec": {
   "display_name": "Python 3",
   "language": "python",
   "name": "python3"
  },
  "language_info": {
   "codemirror_mode": {
    "name": "ipython",
    "version": 2
   },
   "file_extension": ".py",
   "mimetype": "text/x-python",
   "name": "python",
   "nbconvert_exporter": "python",
   "pygments_lexer": "ipython2",
   "version": "2.7.6"
  }
 },
 "nbformat": 4,
 "nbformat_minor": 5
}
