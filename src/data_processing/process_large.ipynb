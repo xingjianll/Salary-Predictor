{
 "cells": [
  {
   "cell_type": "code",
   "execution_count": 1,
   "id": "initial_id",
   "metadata": {
    "collapsed": true,
    "ExecuteTime": {
     "end_time": "2024-04-17T13:15:55.789943Z",
     "start_time": "2024-04-17T13:15:54.537541Z"
    }
   },
   "outputs": [],
   "source": [
    "import pandas as pd\n",
    "\n",
    "\"\"\"combines crawled and downloaded data, process and form a bigger dataset\"\"\"\n",
    "jobs1 = pd.read_csv(\"./raw_data/jobs1.csv\")\n",
    "jobs2 = pd.read_csv(\"./raw_data/jobs2.csv\") \n",
    "jobs3 = pd.read_csv(\"./raw_data/jobs3.csv\") \n",
    "crawled = pd.concat([jobs1, jobs2, jobs3], axis=0, ignore_index=True)\n",
    "crawled = crawled.dropna(how=\"all\", subset=['min_amount','max_amount'])\n",
    "crawled = crawled.dropna(how=\"all\", subset=['description'])"
   ]
  },
  {
   "cell_type": "code",
   "outputs": [
    {
     "data": {
      "text/plain": "       company_id                               name industry  \\\n0             NaN                          Millennia      NaN   \n1             NaN          TechGenius Solutions Inc.      NaN   \n2             NaN                Digital iTechnology      NaN   \n3             NaN                 Anchor Fabrication      NaN   \n4             NaN                      RaceEntry.com      NaN   \n...           ...                                ...      ...   \n20664         NaN  Home 2 Suites Salt Lake City-East      NaN   \n20665         NaN          Phaxis - Support Services      NaN   \n20666         NaN                           Prosegur      NaN   \n20668         NaN                Crothall Healthcare      NaN   \n20669         NaN                      Compass Group      NaN   \n\n                                                   title  \\\n0                                     Lead RPA Developer   \n1      Field Service Engineer / Onsite Delivery Engineer   \n2          W2 Only - Java Developer with AEM - Denver CO   \n3                        CNC Machinist/Welder/Programmer   \n4                               Full Stack Web Developer   \n...                                                  ...   \n20664                              Hotel Lobby Attendant   \n20665                         Hospitality Representative   \n20666                             Lobby Security Officer   \n20668                LOBBY ATTENDANT (PART TIME)-1299363   \n20669                        LOBBY ATTENDANT (PART TIME)   \n\n                                             description  max_salary  \\\n0      Please note: **Applicants must be authorized t...    120000.0   \n1      TechGenius Solutions Inc. is committed to prov...     90000.0   \n2      ***STOP - NO Third Parties Please! Please appl...        52.0   \n3      **CNC Machinist/Welder/Programmer**\\n\\nAnchor ...     63822.0   \n4      **We develop for 3 websites:** \\n\\n**RaceEntry...        35.0   \n...                                                  ...         ...   \n20664  Welcome to Home 2 Suites Salt Lake City - East...        15.0   \n20665  WE ARE SEEING AN EXPERIENCED CONCIERGE WITH A ...        33.0   \n20666  Lobby Security Officer  \\n  \\nWork for a compa...        17.0   \n20668  Crothall Healthcare \\\\* We are hiring immediat...        16.0   \n20669  \\\\* We are hiring immediately for part time **...        16.0   \n\n       med_salary  min_salary  work_type pay_period                 location  \\\n0             NaN    100000.0        NaN     YEARLY                 Cary, NC   \n1             NaN     70000.0        NaN     YEARLY             Kingston, GA   \n2             NaN        50.0        NaN     HOURLY               Denver, CO   \n3             NaN     43968.0        NaN     YEARLY               Denton, TX   \n4             NaN        35.0        NaN     HOURLY                Provo, UT   \n...           ...         ...        ...        ...                      ...   \n20664         NaN        15.0        NaN     HOURLY  Salt Lake City, UT, USA   \n20665         NaN        28.0  TEMPORARY     HOURLY     Jersey City, NJ, USA   \n20666         NaN        17.0        NaN     HOURLY         Atlanta, GA, USA   \n20668         NaN        16.0        NaN     HOURLY          Corona, CA, USA   \n20669         NaN        16.0        NaN     HOURLY          Corona, CA, USA   \n\n       formatted_experience_level  \n0                             NaN  \n1                             NaN  \n2                             NaN  \n3                             NaN  \n4                             NaN  \n...                           ...  \n20664                         NaN  \n20665                         NaN  \n20666                         NaN  \n20668                         NaN  \n20669                         NaN  \n\n[12436 rows x 12 columns]",
      "text/html": "<div>\n<style scoped>\n    .dataframe tbody tr th:only-of-type {\n        vertical-align: middle;\n    }\n\n    .dataframe tbody tr th {\n        vertical-align: top;\n    }\n\n    .dataframe thead th {\n        text-align: right;\n    }\n</style>\n<table border=\"1\" class=\"dataframe\">\n  <thead>\n    <tr style=\"text-align: right;\">\n      <th></th>\n      <th>company_id</th>\n      <th>name</th>\n      <th>industry</th>\n      <th>title</th>\n      <th>description</th>\n      <th>max_salary</th>\n      <th>med_salary</th>\n      <th>min_salary</th>\n      <th>work_type</th>\n      <th>pay_period</th>\n      <th>location</th>\n      <th>formatted_experience_level</th>\n    </tr>\n  </thead>\n  <tbody>\n    <tr>\n      <th>0</th>\n      <td>NaN</td>\n      <td>Millennia</td>\n      <td>NaN</td>\n      <td>Lead RPA Developer</td>\n      <td>Please note: **Applicants must be authorized t...</td>\n      <td>120000.0</td>\n      <td>NaN</td>\n      <td>100000.0</td>\n      <td>NaN</td>\n      <td>YEARLY</td>\n      <td>Cary, NC</td>\n      <td>NaN</td>\n    </tr>\n    <tr>\n      <th>1</th>\n      <td>NaN</td>\n      <td>TechGenius Solutions Inc.</td>\n      <td>NaN</td>\n      <td>Field Service Engineer / Onsite Delivery Engineer</td>\n      <td>TechGenius Solutions Inc. is committed to prov...</td>\n      <td>90000.0</td>\n      <td>NaN</td>\n      <td>70000.0</td>\n      <td>NaN</td>\n      <td>YEARLY</td>\n      <td>Kingston, GA</td>\n      <td>NaN</td>\n    </tr>\n    <tr>\n      <th>2</th>\n      <td>NaN</td>\n      <td>Digital iTechnology</td>\n      <td>NaN</td>\n      <td>W2 Only - Java Developer with AEM - Denver CO</td>\n      <td>***STOP - NO Third Parties Please! Please appl...</td>\n      <td>52.0</td>\n      <td>NaN</td>\n      <td>50.0</td>\n      <td>NaN</td>\n      <td>HOURLY</td>\n      <td>Denver, CO</td>\n      <td>NaN</td>\n    </tr>\n    <tr>\n      <th>3</th>\n      <td>NaN</td>\n      <td>Anchor Fabrication</td>\n      <td>NaN</td>\n      <td>CNC Machinist/Welder/Programmer</td>\n      <td>**CNC Machinist/Welder/Programmer**\\n\\nAnchor ...</td>\n      <td>63822.0</td>\n      <td>NaN</td>\n      <td>43968.0</td>\n      <td>NaN</td>\n      <td>YEARLY</td>\n      <td>Denton, TX</td>\n      <td>NaN</td>\n    </tr>\n    <tr>\n      <th>4</th>\n      <td>NaN</td>\n      <td>RaceEntry.com</td>\n      <td>NaN</td>\n      <td>Full Stack Web Developer</td>\n      <td>**We develop for 3 websites:** \\n\\n**RaceEntry...</td>\n      <td>35.0</td>\n      <td>NaN</td>\n      <td>35.0</td>\n      <td>NaN</td>\n      <td>HOURLY</td>\n      <td>Provo, UT</td>\n      <td>NaN</td>\n    </tr>\n    <tr>\n      <th>...</th>\n      <td>...</td>\n      <td>...</td>\n      <td>...</td>\n      <td>...</td>\n      <td>...</td>\n      <td>...</td>\n      <td>...</td>\n      <td>...</td>\n      <td>...</td>\n      <td>...</td>\n      <td>...</td>\n      <td>...</td>\n    </tr>\n    <tr>\n      <th>20664</th>\n      <td>NaN</td>\n      <td>Home 2 Suites Salt Lake City-East</td>\n      <td>NaN</td>\n      <td>Hotel Lobby Attendant</td>\n      <td>Welcome to Home 2 Suites Salt Lake City - East...</td>\n      <td>15.0</td>\n      <td>NaN</td>\n      <td>15.0</td>\n      <td>NaN</td>\n      <td>HOURLY</td>\n      <td>Salt Lake City, UT, USA</td>\n      <td>NaN</td>\n    </tr>\n    <tr>\n      <th>20665</th>\n      <td>NaN</td>\n      <td>Phaxis - Support Services</td>\n      <td>NaN</td>\n      <td>Hospitality Representative</td>\n      <td>WE ARE SEEING AN EXPERIENCED CONCIERGE WITH A ...</td>\n      <td>33.0</td>\n      <td>NaN</td>\n      <td>28.0</td>\n      <td>TEMPORARY</td>\n      <td>HOURLY</td>\n      <td>Jersey City, NJ, USA</td>\n      <td>NaN</td>\n    </tr>\n    <tr>\n      <th>20666</th>\n      <td>NaN</td>\n      <td>Prosegur</td>\n      <td>NaN</td>\n      <td>Lobby Security Officer</td>\n      <td>Lobby Security Officer  \\n  \\nWork for a compa...</td>\n      <td>17.0</td>\n      <td>NaN</td>\n      <td>17.0</td>\n      <td>NaN</td>\n      <td>HOURLY</td>\n      <td>Atlanta, GA, USA</td>\n      <td>NaN</td>\n    </tr>\n    <tr>\n      <th>20668</th>\n      <td>NaN</td>\n      <td>Crothall Healthcare</td>\n      <td>NaN</td>\n      <td>LOBBY ATTENDANT (PART TIME)-1299363</td>\n      <td>Crothall Healthcare \\\\* We are hiring immediat...</td>\n      <td>16.0</td>\n      <td>NaN</td>\n      <td>16.0</td>\n      <td>NaN</td>\n      <td>HOURLY</td>\n      <td>Corona, CA, USA</td>\n      <td>NaN</td>\n    </tr>\n    <tr>\n      <th>20669</th>\n      <td>NaN</td>\n      <td>Compass Group</td>\n      <td>NaN</td>\n      <td>LOBBY ATTENDANT (PART TIME)</td>\n      <td>\\\\* We are hiring immediately for part time **...</td>\n      <td>16.0</td>\n      <td>NaN</td>\n      <td>16.0</td>\n      <td>NaN</td>\n      <td>HOURLY</td>\n      <td>Corona, CA, USA</td>\n      <td>NaN</td>\n    </tr>\n  </tbody>\n</table>\n<p>12436 rows × 12 columns</p>\n</div>"
     },
     "execution_count": 2,
     "metadata": {},
     "output_type": "execute_result"
    }
   ],
   "source": [
    "import numpy as np\n",
    "\n",
    "\"\"\"Change column names to match original\"\"\"\n",
    "crawled = crawled.rename(columns={'company': 'name',\n",
    "                                    'min_amount': 'min_salary',\n",
    "                                    'max_amount': 'max_salary',\n",
    "                                    'interval': 'pay_period',\n",
    "                                    'job_type': 'work_type',\n",
    "                                    'company_industry': 'industry'})\n",
    "\n",
    "crawled['company_id'] = np.nan\n",
    "crawled['formatted_experience_level'] = np.nan\n",
    "crawled['med_salary'] = np.nan\n",
    "crawled['formatted_work_type'] = np.nan\n",
    "\n",
    "crawled = crawled[[\n",
    "    'company_id', 'name', 'industry', 'title', 'description', 'max_salary', 'med_salary',\n",
    "    'min_salary', 'work_type', 'pay_period', 'location', 'formatted_experience_level']]\n",
    "\n",
    "crawled['work_type'] = crawled['work_type'].map({'fulltime': 'FULL_TIME', \n",
    "                                                   'parttime': 'PART_TIME', \n",
    "                                                   'contract': 'CONTRACT',\n",
    "                                                   'internship': 'INTERNSHIP',\n",
    "                                                   'other': 'OTHER',\n",
    "                                                   'temporary': 'TEMPORARY'})\n",
    "crawled['pay_period'] = crawled['pay_period'].map({'yearly': 'YEARLY', \n",
    "                                                     'monthly': 'MONTHLY', \n",
    "                                                     'hourly': 'HOURLY', \n",
    "                                                     'weekly': 'WEEKLY',\n",
    "                                                     'daily': 'DAILY'})\n",
    "\n",
    "crawled"
   ],
   "metadata": {
    "collapsed": false,
    "ExecuteTime": {
     "end_time": "2024-04-17T13:15:56.528764Z",
     "start_time": "2024-04-17T13:15:56.474051Z"
    }
   },
   "id": "bd57b96562a2737f",
   "execution_count": 2
  },
  {
   "cell_type": "code",
   "outputs": [
    {
     "data": {
      "text/plain": "       company_id                              name  \\\n0        553718.0                       HearingLife   \n1      18213359.0  Episcopal Communities & Services   \n2      18213359.0  Episcopal Communities & Services   \n3        437225.0                        iHerb, LLC   \n4      18213359.0  Episcopal Communities & Services   \n...           ...                               ...   \n18452         NaN                               NaN   \n18453     61469.0   United Staffing Solutions (USS)   \n18454   3894635.0                   Sunnyland Farms   \n18455         NaN                               NaN   \n18456    630152.0                 Karen Marie Salon   \n\n                                 industry  \\\n0                                  Retail   \n1      Non-profit Organization Management   \n2                Non-profit Organizations   \n3                                  Retail   \n4      Non-profit Organization Management   \n...                                   ...   \n18452                                 NaN   \n18453               Staffing & Recruiting   \n18454                              Retail   \n18455                                 NaN   \n18456                   Consumer Services   \n\n                                             title  \\\n0                            Hearing Care Provider   \n1                                             Cook   \n2                                             Cook   \n3      Principal Cloud Security Architect (Remote)   \n4                                       Dishwasher   \n...                                            ...   \n18452                  Mental Health Practitioners   \n18453             Registered Nurse (RN) Vaccinator   \n18454                             Office Associate   \n18455                     Licensed Insurance Agent   \n18456                             Stylist/ Clorist   \n\n                                             description  max_salary  \\\n0      Overview\\n\\nHearingLife is a national hearing ...         NaN   \n1      descriptionTitle\\n\\n Looking for a great oppor...         NaN   \n2      descriptionTitle\\n\\n Looking for a great oppor...         NaN   \n3      Job Summary\\nAt iHerb, we are on a mission to ...    275834.0   \n4      descriptionTitle\\n\\n $2,000 Sign-on Bonus Guar...         NaN   \n...                                                  ...         ...   \n18452  Gail M. Yost and Associates is hiring full tim...         NaN   \n18453  United Staffing Solutions is partnering with o...        50.0   \n18454  Provide clerical and administrative support to...     42000.0   \n18455  While many industries were hurt by the last fe...     52000.0   \n18456  Karen Marie is looking for an awesome experien...     80000.0   \n\n       med_salary  min_salary  work_type pay_period          location  \\\n0         5250.00         NaN  FULL_TIME    MONTHLY  Little River, SC   \n1           22.27         NaN  FULL_TIME     HOURLY   Aliso Viejo, CA   \n2           22.27         NaN  FULL_TIME     HOURLY   Aliso Viejo, CA   \n3             NaN    205956.0  FULL_TIME     YEARLY     United States   \n4           19.30         NaN  FULL_TIME     HOURLY   Aliso Viejo, CA   \n...           ...         ...        ...        ...               ...   \n18452   100000.00         NaN  FULL_TIME     YEARLY   Minneapolis, MN   \n18453         NaN        50.0  PART_TIME     HOURLY      Muskegon, MI   \n18454         NaN     37000.0  FULL_TIME     YEARLY        Albany, GA   \n18455         NaN     45760.0  FULL_TIME     YEARLY         Chico, CA   \n18456         NaN     35000.0  FULL_TIME     YEARLY       Chicago, IL   \n\n      formatted_experience_level  \n0                    Entry level  \n1                    Entry level  \n2                    Entry level  \n3               Mid-Senior level  \n4                    Entry level  \n...                          ...  \n18452                        NaN  \n18453                        NaN  \n18454                        NaN  \n18455                        NaN  \n18456                        NaN  \n\n[18457 rows x 12 columns]",
      "text/html": "<div>\n<style scoped>\n    .dataframe tbody tr th:only-of-type {\n        vertical-align: middle;\n    }\n\n    .dataframe tbody tr th {\n        vertical-align: top;\n    }\n\n    .dataframe thead th {\n        text-align: right;\n    }\n</style>\n<table border=\"1\" class=\"dataframe\">\n  <thead>\n    <tr style=\"text-align: right;\">\n      <th></th>\n      <th>company_id</th>\n      <th>name</th>\n      <th>industry</th>\n      <th>title</th>\n      <th>description</th>\n      <th>max_salary</th>\n      <th>med_salary</th>\n      <th>min_salary</th>\n      <th>work_type</th>\n      <th>pay_period</th>\n      <th>location</th>\n      <th>formatted_experience_level</th>\n    </tr>\n  </thead>\n  <tbody>\n    <tr>\n      <th>0</th>\n      <td>553718.0</td>\n      <td>HearingLife</td>\n      <td>Retail</td>\n      <td>Hearing Care Provider</td>\n      <td>Overview\\n\\nHearingLife is a national hearing ...</td>\n      <td>NaN</td>\n      <td>5250.00</td>\n      <td>NaN</td>\n      <td>FULL_TIME</td>\n      <td>MONTHLY</td>\n      <td>Little River, SC</td>\n      <td>Entry level</td>\n    </tr>\n    <tr>\n      <th>1</th>\n      <td>18213359.0</td>\n      <td>Episcopal Communities &amp; Services</td>\n      <td>Non-profit Organization Management</td>\n      <td>Cook</td>\n      <td>descriptionTitle\\n\\n Looking for a great oppor...</td>\n      <td>NaN</td>\n      <td>22.27</td>\n      <td>NaN</td>\n      <td>FULL_TIME</td>\n      <td>HOURLY</td>\n      <td>Aliso Viejo, CA</td>\n      <td>Entry level</td>\n    </tr>\n    <tr>\n      <th>2</th>\n      <td>18213359.0</td>\n      <td>Episcopal Communities &amp; Services</td>\n      <td>Non-profit Organizations</td>\n      <td>Cook</td>\n      <td>descriptionTitle\\n\\n Looking for a great oppor...</td>\n      <td>NaN</td>\n      <td>22.27</td>\n      <td>NaN</td>\n      <td>FULL_TIME</td>\n      <td>HOURLY</td>\n      <td>Aliso Viejo, CA</td>\n      <td>Entry level</td>\n    </tr>\n    <tr>\n      <th>3</th>\n      <td>437225.0</td>\n      <td>iHerb, LLC</td>\n      <td>Retail</td>\n      <td>Principal Cloud Security Architect (Remote)</td>\n      <td>Job Summary\\nAt iHerb, we are on a mission to ...</td>\n      <td>275834.0</td>\n      <td>NaN</td>\n      <td>205956.0</td>\n      <td>FULL_TIME</td>\n      <td>YEARLY</td>\n      <td>United States</td>\n      <td>Mid-Senior level</td>\n    </tr>\n    <tr>\n      <th>4</th>\n      <td>18213359.0</td>\n      <td>Episcopal Communities &amp; Services</td>\n      <td>Non-profit Organization Management</td>\n      <td>Dishwasher</td>\n      <td>descriptionTitle\\n\\n $2,000 Sign-on Bonus Guar...</td>\n      <td>NaN</td>\n      <td>19.30</td>\n      <td>NaN</td>\n      <td>FULL_TIME</td>\n      <td>HOURLY</td>\n      <td>Aliso Viejo, CA</td>\n      <td>Entry level</td>\n    </tr>\n    <tr>\n      <th>...</th>\n      <td>...</td>\n      <td>...</td>\n      <td>...</td>\n      <td>...</td>\n      <td>...</td>\n      <td>...</td>\n      <td>...</td>\n      <td>...</td>\n      <td>...</td>\n      <td>...</td>\n      <td>...</td>\n      <td>...</td>\n    </tr>\n    <tr>\n      <th>18452</th>\n      <td>NaN</td>\n      <td>NaN</td>\n      <td>NaN</td>\n      <td>Mental Health Practitioners</td>\n      <td>Gail M. Yost and Associates is hiring full tim...</td>\n      <td>NaN</td>\n      <td>100000.00</td>\n      <td>NaN</td>\n      <td>FULL_TIME</td>\n      <td>YEARLY</td>\n      <td>Minneapolis, MN</td>\n      <td>NaN</td>\n    </tr>\n    <tr>\n      <th>18453</th>\n      <td>61469.0</td>\n      <td>United Staffing Solutions (USS)</td>\n      <td>Staffing &amp; Recruiting</td>\n      <td>Registered Nurse (RN) Vaccinator</td>\n      <td>United Staffing Solutions is partnering with o...</td>\n      <td>50.0</td>\n      <td>NaN</td>\n      <td>50.0</td>\n      <td>PART_TIME</td>\n      <td>HOURLY</td>\n      <td>Muskegon, MI</td>\n      <td>NaN</td>\n    </tr>\n    <tr>\n      <th>18454</th>\n      <td>3894635.0</td>\n      <td>Sunnyland Farms</td>\n      <td>Retail</td>\n      <td>Office Associate</td>\n      <td>Provide clerical and administrative support to...</td>\n      <td>42000.0</td>\n      <td>NaN</td>\n      <td>37000.0</td>\n      <td>FULL_TIME</td>\n      <td>YEARLY</td>\n      <td>Albany, GA</td>\n      <td>NaN</td>\n    </tr>\n    <tr>\n      <th>18455</th>\n      <td>NaN</td>\n      <td>NaN</td>\n      <td>NaN</td>\n      <td>Licensed Insurance Agent</td>\n      <td>While many industries were hurt by the last fe...</td>\n      <td>52000.0</td>\n      <td>NaN</td>\n      <td>45760.0</td>\n      <td>FULL_TIME</td>\n      <td>YEARLY</td>\n      <td>Chico, CA</td>\n      <td>NaN</td>\n    </tr>\n    <tr>\n      <th>18456</th>\n      <td>630152.0</td>\n      <td>Karen Marie Salon</td>\n      <td>Consumer Services</td>\n      <td>Stylist/ Clorist</td>\n      <td>Karen Marie is looking for an awesome experien...</td>\n      <td>80000.0</td>\n      <td>NaN</td>\n      <td>35000.0</td>\n      <td>FULL_TIME</td>\n      <td>YEARLY</td>\n      <td>Chicago, IL</td>\n      <td>NaN</td>\n    </tr>\n  </tbody>\n</table>\n<p>18457 rows × 12 columns</p>\n</div>"
     },
     "execution_count": 3,
     "metadata": {},
     "output_type": "execute_result"
    }
   ],
   "source": [
    "cols = ['company_id', 'title', 'description', 'max_salary', 'med_salary', 'min_salary', 'pay_period', 'formatted_work_type', 'location', 'work_type', 'formatted_experience_level']\n",
    "original = pd.read_csv(\"./raw_data/job_postings.csv\", usecols=cols)\n",
    "\n",
    "company_industries = pd.read_csv(\"./raw_data/company_details/company_industries.csv\")\n",
    "companies = pd.read_csv(\"./raw_data/company_details/companies.csv\")\n",
    "\n",
    "\n",
    "# Filter out entries lacking salary data\n",
    "original = original.dropna(how=\"all\", subset=['max_salary','med_salary', 'min_salary'])\n",
    "original = original.merge(companies, on='company_id', how='left')\n",
    "original = original.merge(company_industries, on='company_id', how='left')\n",
    "original = original.rename(columns={'description_x': 'description'})\n",
    "original = original[[\n",
    "    'company_id', 'name', 'industry', 'title', 'description', 'max_salary', 'med_salary', \n",
    "    'min_salary', 'work_type', 'pay_period', 'location', 'formatted_experience_level'\n",
    "]]\n",
    "original"
   ],
   "metadata": {
    "collapsed": false,
    "ExecuteTime": {
     "end_time": "2024-04-17T13:16:00.420254Z",
     "start_time": "2024-04-17T13:15:57.862961Z"
    }
   },
   "id": "8e77bd6f97c3702f",
   "execution_count": 3
  },
  {
   "cell_type": "code",
   "outputs": [
    {
     "data": {
      "text/plain": "       company_id                             name               industry  \\\n0             NaN                        Millennia                    NaN   \n1             NaN        TechGenius Solutions Inc.                    NaN   \n2             NaN              Digital iTechnology                    NaN   \n3             NaN               Anchor Fabrication                    NaN   \n4             NaN                    RaceEntry.com                    NaN   \n...           ...                              ...                    ...   \n30888         NaN                              NaN                    NaN   \n30889     61469.0  United Staffing Solutions (USS)  Staffing & Recruiting   \n30890   3894635.0                  Sunnyland Farms                 Retail   \n30891         NaN                              NaN                    NaN   \n30892    630152.0                Karen Marie Salon      Consumer Services   \n\n                                                   title  \\\n0                                     Lead RPA Developer   \n1      Field Service Engineer / Onsite Delivery Engineer   \n2          W2 Only - Java Developer with AEM - Denver CO   \n3                        CNC Machinist/Welder/Programmer   \n4                               Full Stack Web Developer   \n...                                                  ...   \n30888                        Mental Health Practitioners   \n30889                   Registered Nurse (RN) Vaccinator   \n30890                                   Office Associate   \n30891                           Licensed Insurance Agent   \n30892                                   Stylist/ Clorist   \n\n                                             description  max_salary  \\\n0      Please note: **Applicants must be authorized t...    120000.0   \n1      TechGenius Solutions Inc. is committed to prov...     90000.0   \n2      ***STOP - NO Third Parties Please! Please appl...        52.0   \n3      **CNC Machinist/Welder/Programmer**\\n\\nAnchor ...     63822.0   \n4      **We develop for 3 websites:** \\n\\n**RaceEntry...        35.0   \n...                                                  ...         ...   \n30888  Gail M. Yost and Associates is hiring full tim...         NaN   \n30889  United Staffing Solutions is partnering with o...        50.0   \n30890  Provide clerical and administrative support to...     42000.0   \n30891  While many industries were hurt by the last fe...     52000.0   \n30892  Karen Marie is looking for an awesome experien...     80000.0   \n\n       med_salary  min_salary  work_type pay_period         location  \\\n0             NaN    100000.0        NaN     YEARLY         Cary, NC   \n1             NaN     70000.0        NaN     YEARLY     Kingston, GA   \n2             NaN        50.0        NaN     HOURLY       Denver, CO   \n3             NaN     43968.0        NaN     YEARLY       Denton, TX   \n4             NaN        35.0        NaN     HOURLY        Provo, UT   \n...           ...         ...        ...        ...              ...   \n30888    100000.0         NaN  FULL_TIME     YEARLY  Minneapolis, MN   \n30889         NaN        50.0  PART_TIME     HOURLY     Muskegon, MI   \n30890         NaN     37000.0  FULL_TIME     YEARLY       Albany, GA   \n30891         NaN     45760.0  FULL_TIME     YEARLY        Chico, CA   \n30892         NaN     35000.0  FULL_TIME     YEARLY      Chicago, IL   \n\n      formatted_experience_level  \n0                            NaN  \n1                            NaN  \n2                            NaN  \n3                            NaN  \n4                            NaN  \n...                          ...  \n30888                        NaN  \n30889                        NaN  \n30890                        NaN  \n30891                        NaN  \n30892                        NaN  \n\n[30893 rows x 12 columns]",
      "text/html": "<div>\n<style scoped>\n    .dataframe tbody tr th:only-of-type {\n        vertical-align: middle;\n    }\n\n    .dataframe tbody tr th {\n        vertical-align: top;\n    }\n\n    .dataframe thead th {\n        text-align: right;\n    }\n</style>\n<table border=\"1\" class=\"dataframe\">\n  <thead>\n    <tr style=\"text-align: right;\">\n      <th></th>\n      <th>company_id</th>\n      <th>name</th>\n      <th>industry</th>\n      <th>title</th>\n      <th>description</th>\n      <th>max_salary</th>\n      <th>med_salary</th>\n      <th>min_salary</th>\n      <th>work_type</th>\n      <th>pay_period</th>\n      <th>location</th>\n      <th>formatted_experience_level</th>\n    </tr>\n  </thead>\n  <tbody>\n    <tr>\n      <th>0</th>\n      <td>NaN</td>\n      <td>Millennia</td>\n      <td>NaN</td>\n      <td>Lead RPA Developer</td>\n      <td>Please note: **Applicants must be authorized t...</td>\n      <td>120000.0</td>\n      <td>NaN</td>\n      <td>100000.0</td>\n      <td>NaN</td>\n      <td>YEARLY</td>\n      <td>Cary, NC</td>\n      <td>NaN</td>\n    </tr>\n    <tr>\n      <th>1</th>\n      <td>NaN</td>\n      <td>TechGenius Solutions Inc.</td>\n      <td>NaN</td>\n      <td>Field Service Engineer / Onsite Delivery Engineer</td>\n      <td>TechGenius Solutions Inc. is committed to prov...</td>\n      <td>90000.0</td>\n      <td>NaN</td>\n      <td>70000.0</td>\n      <td>NaN</td>\n      <td>YEARLY</td>\n      <td>Kingston, GA</td>\n      <td>NaN</td>\n    </tr>\n    <tr>\n      <th>2</th>\n      <td>NaN</td>\n      <td>Digital iTechnology</td>\n      <td>NaN</td>\n      <td>W2 Only - Java Developer with AEM - Denver CO</td>\n      <td>***STOP - NO Third Parties Please! Please appl...</td>\n      <td>52.0</td>\n      <td>NaN</td>\n      <td>50.0</td>\n      <td>NaN</td>\n      <td>HOURLY</td>\n      <td>Denver, CO</td>\n      <td>NaN</td>\n    </tr>\n    <tr>\n      <th>3</th>\n      <td>NaN</td>\n      <td>Anchor Fabrication</td>\n      <td>NaN</td>\n      <td>CNC Machinist/Welder/Programmer</td>\n      <td>**CNC Machinist/Welder/Programmer**\\n\\nAnchor ...</td>\n      <td>63822.0</td>\n      <td>NaN</td>\n      <td>43968.0</td>\n      <td>NaN</td>\n      <td>YEARLY</td>\n      <td>Denton, TX</td>\n      <td>NaN</td>\n    </tr>\n    <tr>\n      <th>4</th>\n      <td>NaN</td>\n      <td>RaceEntry.com</td>\n      <td>NaN</td>\n      <td>Full Stack Web Developer</td>\n      <td>**We develop for 3 websites:** \\n\\n**RaceEntry...</td>\n      <td>35.0</td>\n      <td>NaN</td>\n      <td>35.0</td>\n      <td>NaN</td>\n      <td>HOURLY</td>\n      <td>Provo, UT</td>\n      <td>NaN</td>\n    </tr>\n    <tr>\n      <th>...</th>\n      <td>...</td>\n      <td>...</td>\n      <td>...</td>\n      <td>...</td>\n      <td>...</td>\n      <td>...</td>\n      <td>...</td>\n      <td>...</td>\n      <td>...</td>\n      <td>...</td>\n      <td>...</td>\n      <td>...</td>\n    </tr>\n    <tr>\n      <th>30888</th>\n      <td>NaN</td>\n      <td>NaN</td>\n      <td>NaN</td>\n      <td>Mental Health Practitioners</td>\n      <td>Gail M. Yost and Associates is hiring full tim...</td>\n      <td>NaN</td>\n      <td>100000.0</td>\n      <td>NaN</td>\n      <td>FULL_TIME</td>\n      <td>YEARLY</td>\n      <td>Minneapolis, MN</td>\n      <td>NaN</td>\n    </tr>\n    <tr>\n      <th>30889</th>\n      <td>61469.0</td>\n      <td>United Staffing Solutions (USS)</td>\n      <td>Staffing &amp; Recruiting</td>\n      <td>Registered Nurse (RN) Vaccinator</td>\n      <td>United Staffing Solutions is partnering with o...</td>\n      <td>50.0</td>\n      <td>NaN</td>\n      <td>50.0</td>\n      <td>PART_TIME</td>\n      <td>HOURLY</td>\n      <td>Muskegon, MI</td>\n      <td>NaN</td>\n    </tr>\n    <tr>\n      <th>30890</th>\n      <td>3894635.0</td>\n      <td>Sunnyland Farms</td>\n      <td>Retail</td>\n      <td>Office Associate</td>\n      <td>Provide clerical and administrative support to...</td>\n      <td>42000.0</td>\n      <td>NaN</td>\n      <td>37000.0</td>\n      <td>FULL_TIME</td>\n      <td>YEARLY</td>\n      <td>Albany, GA</td>\n      <td>NaN</td>\n    </tr>\n    <tr>\n      <th>30891</th>\n      <td>NaN</td>\n      <td>NaN</td>\n      <td>NaN</td>\n      <td>Licensed Insurance Agent</td>\n      <td>While many industries were hurt by the last fe...</td>\n      <td>52000.0</td>\n      <td>NaN</td>\n      <td>45760.0</td>\n      <td>FULL_TIME</td>\n      <td>YEARLY</td>\n      <td>Chico, CA</td>\n      <td>NaN</td>\n    </tr>\n    <tr>\n      <th>30892</th>\n      <td>630152.0</td>\n      <td>Karen Marie Salon</td>\n      <td>Consumer Services</td>\n      <td>Stylist/ Clorist</td>\n      <td>Karen Marie is looking for an awesome experien...</td>\n      <td>80000.0</td>\n      <td>NaN</td>\n      <td>35000.0</td>\n      <td>FULL_TIME</td>\n      <td>YEARLY</td>\n      <td>Chicago, IL</td>\n      <td>NaN</td>\n    </tr>\n  </tbody>\n</table>\n<p>30893 rows × 12 columns</p>\n</div>"
     },
     "execution_count": 4,
     "metadata": {},
     "output_type": "execute_result"
    }
   ],
   "source": [
    "large = pd.concat([crawled, original], axis=0, ignore_index=True)\n",
    "large"
   ],
   "metadata": {
    "collapsed": false,
    "ExecuteTime": {
     "end_time": "2024-04-17T13:16:02.075131Z",
     "start_time": "2024-04-17T13:16:02.046942Z"
    }
   },
   "id": "6e3ed148a47ac978",
   "execution_count": 4
  },
  {
   "cell_type": "code",
   "outputs": [],
   "source": [
    "import spacy\n",
    "from data_processing import standardize_salary, clean_description, clean_title\n",
    "\n",
    "\"\"\"Standardize salary\"\"\"  \n",
    "large['standardized_annual_salary'] = large.apply(standardize_salary, axis=1)\n",
    "\n",
    "\"\"\"Label rows by salary interval\"\"\"  \n",
    "bins = [0, 25000] + list(range(25001, 150001, 5000)) + [float('inf')]\n",
    "labels = ['25K-'] + [f\"{i}K - {i + 5}K\" for i in range(25, 150, 5)] + ['150K+']\n",
    "large['salary_level'] = pd.cut(large['standardized_annual_salary'], bins=bins, labels=labels, right=False)\n",
    "\n"
   ],
   "metadata": {
    "collapsed": false,
    "ExecuteTime": {
     "end_time": "2024-04-17T13:16:10.038275Z",
     "start_time": "2024-04-17T13:16:06.104056Z"
    }
   },
   "id": "148712167519f613",
   "execution_count": 5
  },
  {
   "cell_type": "code",
   "outputs": [],
   "source": [
    "\"\"\"Clean descriptions\"\"\"  \n",
    "nlp = spacy.load(\"en_core_web_sm\", disable=[\"parser\", \"ner\"])\n",
    "large['cleaned_description'] = large['description'].apply(lambda x: clean_description(x, nlp))"
   ],
   "metadata": {
    "collapsed": false,
    "ExecuteTime": {
     "end_time": "2024-04-17T13:04:42.337357Z",
     "start_time": "2024-04-17T12:42:28.932500Z"
    }
   },
   "id": "c487ea111d720c9",
   "execution_count": 68
  },
  {
   "cell_type": "code",
   "outputs": [],
   "source": [
    "\"\"\"Clean title\"\"\"  \n",
    "large['cleaned_title'] = large['title'].apply(lambda x: clean_title(x, nlp))"
   ],
   "metadata": {
    "collapsed": false,
    "ExecuteTime": {
     "end_time": "2024-04-17T13:10:06.238135Z",
     "start_time": "2024-04-17T13:09:02.042675Z"
    }
   },
   "id": "aa0cababca4eca",
   "execution_count": 69
  },
  {
   "cell_type": "code",
   "outputs": [],
   "source": [
    "from src.data_processing.data_processing import generate_vocabulary\n",
    "from src.data_processing.data_processing import create_title_emb\n",
    " \n",
    "\"\"\"Create embedding for title\"\"\"  \n",
    "vocab = generate_vocabulary(large['cleaned_title'])\n",
    "word_to_vec = {word: np.eye(len(vocab))[i] for i, word in enumerate(vocab)}\n",
    "large['title_emb'] = large['cleaned_title'].apply(lambda x: create_title_emb(x, word_to_vec))"
   ],
   "metadata": {
    "collapsed": false,
    "ExecuteTime": {
     "end_time": "2024-04-17T13:10:34.159501Z",
     "start_time": "2024-04-17T13:10:31.678926Z"
    }
   },
   "id": "e269252a83bb3666",
   "execution_count": 70
  },
  {
   "cell_type": "code",
   "outputs": [],
   "source": [
    "final_processed_data = large[[\n",
    "    'company_id', 'name', 'industry', 'cleaned_title', 'cleaned_description', 'work_type',\n",
    "    'location', 'formatted_experience_level', 'standardized_annual_salary', 'salary_level', 'title_emb'\n",
    "]]\n",
    "final_processed_data"
   ],
   "metadata": {
    "collapsed": false
   },
   "id": "7cda3367386fdf72"
  }
 ],
 "metadata": {
  "kernelspec": {
   "display_name": "Python 3",
   "language": "python",
   "name": "python3"
  },
  "language_info": {
   "codemirror_mode": {
    "name": "ipython",
    "version": 2
   },
   "file_extension": ".py",
   "mimetype": "text/x-python",
   "name": "python",
   "nbconvert_exporter": "python",
   "pygments_lexer": "ipython2",
   "version": "2.7.6"
  }
 },
 "nbformat": 4,
 "nbformat_minor": 5
}
