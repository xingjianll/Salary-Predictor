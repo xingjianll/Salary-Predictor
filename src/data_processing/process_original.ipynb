{
 "cells": [
  {
   "cell_type": "code",
   "execution_count": 6,
   "id": "initial_id",
   "metadata": {
    "ExecuteTime": {
     "end_time": "2024-04-17T11:28:06.970973Z",
     "start_time": "2024-04-17T11:28:05.015822Z"
    },
    "collapsed": true
   },
   "outputs": [],
   "source": [
    "import numpy as np\n",
    "import pandas as pd\n",
    "\n",
    "# Load data\n",
    "# Load the dataset, selecting only the specified columns\n",
    "data = pd.read_csv(\"../data/processed_job_postings_large.csv\")"
   ]
  },
  {
   "cell_type": "code",
   "execution_count": 8,
   "id": "6a132d5e",
   "metadata": {
    "ExecuteTime": {
     "end_time": "2024-04-17T11:28:08.273756Z",
     "start_time": "2024-04-17T11:28:08.247233Z"
    }
   },
   "outputs": [
    {
     "data": {
      "text/plain": [
       "company_id                    12658\n",
       "name                            385\n",
       "industry                      11949\n",
       "cleaned_title                     0\n",
       "cleaned_description               0\n",
       "work_type                      7955\n",
       "location                        208\n",
       "formatted_experience_level    16923\n",
       "standardized_annual_salary        0\n",
       "salary_level                      0\n",
       "title_emb                         0\n",
       "dtype: int64"
      ]
     },
     "execution_count": 8,
     "metadata": {},
     "output_type": "execute_result"
    }
   ],
   "source": [
    "data.isna().sum()\n"
   ]
  },
  {
   "cell_type": "code",
   "execution_count": 3,
   "id": "6a132d5e",
   "metadata": {
    "ExecuteTime": {
     "end_time": "2024-04-17T11:28:08.273756Z",
     "start_time": "2024-04-17T11:28:08.247233Z"
    }
   },
   "outputs": [],
   "source": [
    "data.dropna(subset=['formatted_experience_level', 'work_type', 'industry'], inplace=True)\n",
    "data.to_csv(\"../data/processed_job_postings_large_noNA.csv\", index=False)"
   ]
  },
  {
   "cell_type": "code",
   "execution_count": 9,
   "id": "fe177449c0b42e9f",
   "metadata": {
    "collapsed": false
   },
   "outputs": [],
   "source": [
    "\"\"\"Label rows by salary interval\"\"\"  \n",
    "bins = [0] + list(range(10000, 160000, 10000)) + [float('inf')]\n",
    "labels = ['10K-'] + [f\"{i}K - {i + 10}K\" for i in range(10, 150, 10)] + ['160K+']\n",
    "\n",
    "data['salary_level'] = pd.cut(data['standardized_annual_salary'], bins=bins, labels=labels, right=False)"
   ]
  },
  {
   "cell_type": "code",
   "execution_count": 11,
   "id": "98d3d3a5",
   "metadata": {},
   "outputs": [],
   "source": [
    "data.to_csv(\"../data/processed_job_postings_large_noNA_labeled.csv\", index=False)"
   ]
  },
  {
   "cell_type": "code",
   "execution_count": null,
   "id": "e7ad431c5950115d",
   "metadata": {
    "ExecuteTime": {
     "end_time": "2024-04-11T19:46:14.308568Z",
     "start_time": "2024-04-11T19:46:14.284964Z"
    }
   },
   "outputs": [],
   "source": [
    "from src.data_processing.data_processing import clean_description\n",
    "import spacy\n",
    "\n",
    "\"\"\"Clean descriptions\"\"\"  \n",
    "nlp = spacy.load(\"en_core_web_sm\", disable=[\"parser\", \"ner\"])\n",
    "data['cleaned_description'] = data['description'].apply(lambda x: clean_description(x, nlp))\n"
   ]
  },
  {
   "cell_type": "code",
   "execution_count": null,
   "id": "c8744024",
   "metadata": {},
   "outputs": [],
   "source": [
    "from src.data_processing.data_processing import clean_title\n",
    "\n",
    "\"\"\"Clean title\"\"\"  \n",
    "data['cleaned_title'] = data['title'].apply(lambda x: clean_title(x, nlp))"
   ]
  },
  {
   "cell_type": "code",
   "execution_count": null,
   "id": "1a757c2d",
   "metadata": {},
   "outputs": [],
   "source": [
    "from src.data_processing.data_processing import generate_vocabulary\n",
    "from src.data_processing.data_processing import create_title_emb\n",
    " \n",
    "\"\"\"Create embedding for title\"\"\"  \n",
    "vocab = generate_vocabulary(data['cleaned_title'])\n",
    "word_to_vec = {word: np.eye(len(vocab))[i] for i, word in enumerate(vocab)}\n",
    "data['title_emb'] = data['cleaned_title'].apply(lambda x: create_title_emb(x, word_to_vec))"
   ]
  },
  {
   "cell_type": "code",
   "execution_count": null,
   "id": "10af57ce",
   "metadata": {},
   "outputs": [
    {
     "data": {
      "text/plain": [
       "0        [0.0, 0.0, 0.0, 0.0, 0.0, 0.0, 0.0, 0.0, 0.0, ...\n",
       "1        [0.0, 0.0, 0.0, 0.0, 0.0, 0.0, 0.0, 0.0, 0.0, ...\n",
       "2        [0.0, 0.0, 0.0, 0.0, 0.0, 0.0, 0.0, 0.0, 0.0, ...\n",
       "3        [0.0, 0.0, 0.0, 0.0, 0.0, 0.0, 0.0, 0.0, 0.0, ...\n",
       "4        [0.0, 0.0, 0.0, 0.0, 0.0, 0.0, 0.0, 0.0, 0.0, ...\n",
       "                               ...                        \n",
       "18452    [0.0, 0.0, 0.0, 0.0, 0.0, 0.0, 0.0, 0.0, 0.0, ...\n",
       "18453    [0.0, 0.0, 0.0, 0.0, 0.0, 0.0, 0.0, 0.0, 0.0, ...\n",
       "18454    [0.0, 0.0, 0.0, 0.0, 0.0, 1.0, 0.0, 0.0, 0.0, ...\n",
       "18455    [0.0, 0.0, 0.0, 0.0, 0.0, 0.0, 0.0, 0.0, 0.0, ...\n",
       "18456    [0.0, 0.0, 0.0, 0.0, 0.0, 0.0, 0.0, 0.0, 0.0, ...\n",
       "Name: title_emb, Length: 18457, dtype: object"
      ]
     },
     "execution_count": 95,
     "metadata": {},
     "output_type": "execute_result"
    }
   ],
   "source": [
    "data['title_emb']"
   ]
  },
  {
   "cell_type": "code",
   "execution_count": null,
   "id": "759c3202",
   "metadata": {},
   "outputs": [],
   "source": [
    "\n",
    "final_processed_data.to_csv(\"../data/processed_job_postings.csv\", index=False)"
   ]
  },
  {
   "cell_type": "code",
   "execution_count": 26,
   "id": "af20b022",
   "metadata": {},
   "outputs": [
    {
     "data": {
      "text/html": [
       "<div>\n",
       "<style scoped>\n",
       "    .dataframe tbody tr th:only-of-type {\n",
       "        vertical-align: middle;\n",
       "    }\n",
       "\n",
       "    .dataframe tbody tr th {\n",
       "        vertical-align: top;\n",
       "    }\n",
       "\n",
       "    .dataframe thead th {\n",
       "        text-align: right;\n",
       "    }\n",
       "</style>\n",
       "<table border=\"1\" class=\"dataframe\">\n",
       "  <thead>\n",
       "    <tr style=\"text-align: right;\">\n",
       "      <th></th>\n",
       "      <th>company_id</th>\n",
       "      <th>name</th>\n",
       "      <th>industry</th>\n",
       "      <th>cleaned_title</th>\n",
       "      <th>cleaned_description</th>\n",
       "      <th>work_type</th>\n",
       "      <th>location</th>\n",
       "      <th>formatted_experience_level</th>\n",
       "      <th>standardized_annual_salary</th>\n",
       "      <th>salary_level</th>\n",
       "      <th>title_emb</th>\n",
       "    </tr>\n",
       "  </thead>\n",
       "  <tbody>\n",
       "    <tr>\n",
       "      <th>0</th>\n",
       "      <td>553718.0</td>\n",
       "      <td>HearingLife</td>\n",
       "      <td>Retail</td>\n",
       "      <td>hearing care provider</td>\n",
       "      <td>overview HearingLife national hearing care com...</td>\n",
       "      <td>FULL_TIME</td>\n",
       "      <td>Little River, SC</td>\n",
       "      <td>Entry level</td>\n",
       "      <td>63000.0</td>\n",
       "      <td>65K - 70K</td>\n",
       "      <td>None</td>\n",
       "    </tr>\n",
       "    <tr>\n",
       "      <th>1</th>\n",
       "      <td>18213359.0</td>\n",
       "      <td>Episcopal Communities &amp; Services</td>\n",
       "      <td>Non-profit Organization Management</td>\n",
       "      <td>cook</td>\n",
       "      <td>descriptiontitle look great opportunity develo...</td>\n",
       "      <td>FULL_TIME</td>\n",
       "      <td>Aliso Viejo, CA</td>\n",
       "      <td>Entry level</td>\n",
       "      <td>42758.4</td>\n",
       "      <td>45K - 50K</td>\n",
       "      <td>None</td>\n",
       "    </tr>\n",
       "    <tr>\n",
       "      <th>2</th>\n",
       "      <td>18213359.0</td>\n",
       "      <td>Episcopal Communities &amp; Services</td>\n",
       "      <td>Non-profit Organizations</td>\n",
       "      <td>cook</td>\n",
       "      <td>descriptiontitle look great opportunity develo...</td>\n",
       "      <td>FULL_TIME</td>\n",
       "      <td>Aliso Viejo, CA</td>\n",
       "      <td>Entry level</td>\n",
       "      <td>42758.4</td>\n",
       "      <td>45K - 50K</td>\n",
       "      <td>None</td>\n",
       "    </tr>\n",
       "    <tr>\n",
       "      <th>3</th>\n",
       "      <td>437225.0</td>\n",
       "      <td>iHerb, LLC</td>\n",
       "      <td>Retail</td>\n",
       "      <td>principal cloud security architect remote</td>\n",
       "      <td>Job Summary iHerb mission health wellness acce...</td>\n",
       "      <td>FULL_TIME</td>\n",
       "      <td>United States</td>\n",
       "      <td>Mid-Senior level</td>\n",
       "      <td>240895.0</td>\n",
       "      <td>150K+</td>\n",
       "      <td>None</td>\n",
       "    </tr>\n",
       "    <tr>\n",
       "      <th>4</th>\n",
       "      <td>18213359.0</td>\n",
       "      <td>Episcopal Communities &amp; Services</td>\n",
       "      <td>Non-profit Organization Management</td>\n",
       "      <td>dishwasher</td>\n",
       "      <td>descriptiontitle sign Bonus guarantee look foo...</td>\n",
       "      <td>FULL_TIME</td>\n",
       "      <td>Aliso Viejo, CA</td>\n",
       "      <td>Entry level</td>\n",
       "      <td>37056.0</td>\n",
       "      <td>40K - 45K</td>\n",
       "      <td>None</td>\n",
       "    </tr>\n",
       "    <tr>\n",
       "      <th>...</th>\n",
       "      <td>...</td>\n",
       "      <td>...</td>\n",
       "      <td>...</td>\n",
       "      <td>...</td>\n",
       "      <td>...</td>\n",
       "      <td>...</td>\n",
       "      <td>...</td>\n",
       "      <td>...</td>\n",
       "      <td>...</td>\n",
       "      <td>...</td>\n",
       "      <td>...</td>\n",
       "    </tr>\n",
       "    <tr>\n",
       "      <th>18452</th>\n",
       "      <td>NaN</td>\n",
       "      <td>NaN</td>\n",
       "      <td>NaN</td>\n",
       "      <td>mental health practitioners</td>\n",
       "      <td>Gail Yost Associates hire time license mental ...</td>\n",
       "      <td>FULL_TIME</td>\n",
       "      <td>Minneapolis, MN</td>\n",
       "      <td>NaN</td>\n",
       "      <td>100000.0</td>\n",
       "      <td>100K - 105K</td>\n",
       "      <td>None</td>\n",
       "    </tr>\n",
       "    <tr>\n",
       "      <th>18453</th>\n",
       "      <td>61469.0</td>\n",
       "      <td>United Staffing Solutions (USS)</td>\n",
       "      <td>Staffing &amp; Recruiting</td>\n",
       "      <td>registered nurse rn vaccinator</td>\n",
       "      <td>United Staffing Solutions partner big covid va...</td>\n",
       "      <td>PART_TIME</td>\n",
       "      <td>Muskegon, MI</td>\n",
       "      <td>NaN</td>\n",
       "      <td>96000.0</td>\n",
       "      <td>100K - 105K</td>\n",
       "      <td>None</td>\n",
       "    </tr>\n",
       "    <tr>\n",
       "      <th>18454</th>\n",
       "      <td>3894635.0</td>\n",
       "      <td>Sunnyland Farms</td>\n",
       "      <td>Retail</td>\n",
       "      <td>office associate</td>\n",
       "      <td>provide clerical administrative support manage...</td>\n",
       "      <td>FULL_TIME</td>\n",
       "      <td>Albany, GA</td>\n",
       "      <td>NaN</td>\n",
       "      <td>39500.0</td>\n",
       "      <td>40K - 45K</td>\n",
       "      <td>None</td>\n",
       "    </tr>\n",
       "    <tr>\n",
       "      <th>18455</th>\n",
       "      <td>NaN</td>\n",
       "      <td>NaN</td>\n",
       "      <td>NaN</td>\n",
       "      <td>licensed insurance agent</td>\n",
       "      <td>industry hurt year people need insurance posit...</td>\n",
       "      <td>FULL_TIME</td>\n",
       "      <td>Chico, CA</td>\n",
       "      <td>NaN</td>\n",
       "      <td>48880.0</td>\n",
       "      <td>50K - 55K</td>\n",
       "      <td>None</td>\n",
       "    </tr>\n",
       "    <tr>\n",
       "      <th>18456</th>\n",
       "      <td>630152.0</td>\n",
       "      <td>Karen Marie Salon</td>\n",
       "      <td>Consumer Services</td>\n",
       "      <td>stylist clorist</td>\n",
       "      <td>Karen Marie look awesome experienced stylist l...</td>\n",
       "      <td>FULL_TIME</td>\n",
       "      <td>Chicago, IL</td>\n",
       "      <td>NaN</td>\n",
       "      <td>57500.0</td>\n",
       "      <td>60K - 65K</td>\n",
       "      <td>None</td>\n",
       "    </tr>\n",
       "  </tbody>\n",
       "</table>\n",
       "<p>18457 rows × 11 columns</p>\n",
       "</div>"
      ],
      "text/plain": [
       "       company_id                              name  \\\n",
       "0        553718.0                       HearingLife   \n",
       "1      18213359.0  Episcopal Communities & Services   \n",
       "2      18213359.0  Episcopal Communities & Services   \n",
       "3        437225.0                        iHerb, LLC   \n",
       "4      18213359.0  Episcopal Communities & Services   \n",
       "...           ...                               ...   \n",
       "18452         NaN                               NaN   \n",
       "18453     61469.0   United Staffing Solutions (USS)   \n",
       "18454   3894635.0                   Sunnyland Farms   \n",
       "18455         NaN                               NaN   \n",
       "18456    630152.0                 Karen Marie Salon   \n",
       "\n",
       "                                 industry  \\\n",
       "0                                  Retail   \n",
       "1      Non-profit Organization Management   \n",
       "2                Non-profit Organizations   \n",
       "3                                  Retail   \n",
       "4      Non-profit Organization Management   \n",
       "...                                   ...   \n",
       "18452                                 NaN   \n",
       "18453               Staffing & Recruiting   \n",
       "18454                              Retail   \n",
       "18455                                 NaN   \n",
       "18456                   Consumer Services   \n",
       "\n",
       "                                   cleaned_title  \\\n",
       "0                          hearing care provider   \n",
       "1                                           cook   \n",
       "2                                           cook   \n",
       "3      principal cloud security architect remote   \n",
       "4                                     dishwasher   \n",
       "...                                          ...   \n",
       "18452                mental health practitioners   \n",
       "18453             registered nurse rn vaccinator   \n",
       "18454                           office associate   \n",
       "18455                   licensed insurance agent   \n",
       "18456                            stylist clorist   \n",
       "\n",
       "                                     cleaned_description  work_type  \\\n",
       "0      overview HearingLife national hearing care com...  FULL_TIME   \n",
       "1      descriptiontitle look great opportunity develo...  FULL_TIME   \n",
       "2      descriptiontitle look great opportunity develo...  FULL_TIME   \n",
       "3      Job Summary iHerb mission health wellness acce...  FULL_TIME   \n",
       "4      descriptiontitle sign Bonus guarantee look foo...  FULL_TIME   \n",
       "...                                                  ...        ...   \n",
       "18452  Gail Yost Associates hire time license mental ...  FULL_TIME   \n",
       "18453  United Staffing Solutions partner big covid va...  PART_TIME   \n",
       "18454  provide clerical administrative support manage...  FULL_TIME   \n",
       "18455  industry hurt year people need insurance posit...  FULL_TIME   \n",
       "18456  Karen Marie look awesome experienced stylist l...  FULL_TIME   \n",
       "\n",
       "               location formatted_experience_level  \\\n",
       "0      Little River, SC                Entry level   \n",
       "1       Aliso Viejo, CA                Entry level   \n",
       "2       Aliso Viejo, CA                Entry level   \n",
       "3         United States           Mid-Senior level   \n",
       "4       Aliso Viejo, CA                Entry level   \n",
       "...                 ...                        ...   \n",
       "18452   Minneapolis, MN                        NaN   \n",
       "18453      Muskegon, MI                        NaN   \n",
       "18454        Albany, GA                        NaN   \n",
       "18455         Chico, CA                        NaN   \n",
       "18456       Chicago, IL                        NaN   \n",
       "\n",
       "       standardized_annual_salary salary_level title_emb  \n",
       "0                         63000.0    65K - 70K      None  \n",
       "1                         42758.4    45K - 50K      None  \n",
       "2                         42758.4    45K - 50K      None  \n",
       "3                        240895.0        150K+      None  \n",
       "4                         37056.0    40K - 45K      None  \n",
       "...                           ...          ...       ...  \n",
       "18452                    100000.0  100K - 105K      None  \n",
       "18453                     96000.0  100K - 105K      None  \n",
       "18454                     39500.0    40K - 45K      None  \n",
       "18455                     48880.0    50K - 55K      None  \n",
       "18456                     57500.0    60K - 65K      None  \n",
       "\n",
       "[18457 rows x 11 columns]"
      ]
     },
     "execution_count": 26,
     "metadata": {},
     "output_type": "execute_result"
    }
   ],
   "source": [
    "final_processed_data[:15]"
   ]
  }
 ],
 "metadata": {
  "kernelspec": {
   "display_name": "Python 3",
   "language": "python",
   "name": "python3"
  },
  "language_info": {
   "codemirror_mode": {
    "name": "ipython",
    "version": 3
   },
   "file_extension": ".py",
   "mimetype": "text/x-python",
   "name": "python",
   "nbconvert_exporter": "python",
   "pygments_lexer": "ipython3",
   "version": "3.12.3"
  }
 },
 "nbformat": 4,
 "nbformat_minor": 5
}
