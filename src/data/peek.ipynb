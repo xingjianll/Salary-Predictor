{
 "cells": [
  {
   "cell_type": "code",
   "execution_count": 11,
   "id": "initial_id",
   "metadata": {
    "collapsed": true,
    "ExecuteTime": {
     "end_time": "2024-04-15T13:02:56.695521Z",
     "start_time": "2024-04-15T13:02:54.658254Z"
    }
   },
   "outputs": [],
   "source": [
    "import pandas as pd\n"
   ]
  },
  {
   "cell_type": "code",
   "outputs": [
    {
     "data": {
      "text/plain": "       company_id                              name  \\\n0        553718.0                       HearingLife   \n1      18213359.0  Episcopal Communities & Services   \n2      18213359.0  Episcopal Communities & Services   \n3        437225.0                        iHerb, LLC   \n4      18213359.0  Episcopal Communities & Services   \n...           ...                               ...   \n18452         NaN                               NaN   \n18453     61469.0   United Staffing Solutions (USS)   \n18454   3894635.0                   Sunnyland Farms   \n18455         NaN                               NaN   \n18456    630152.0                 Karen Marie Salon   \n\n                                 industry  \\\n0                                  Retail   \n1      Non-profit Organization Management   \n2                Non-profit Organizations   \n3                                  Retail   \n4      Non-profit Organization Management   \n...                                   ...   \n18452                                 NaN   \n18453               Staffing & Recruiting   \n18454                              Retail   \n18455                                 NaN   \n18456                   Consumer Services   \n\n                                   cleaned_title  \\\n0                          hearing care provider   \n1                                           cook   \n2                                           cook   \n3      principal cloud security architect remote   \n4                                     dishwasher   \n...                                          ...   \n18452                mental health practitioners   \n18453             registered nurse rn vaccinator   \n18454                           office associate   \n18455                   licensed insurance agent   \n18456                            stylist clorist   \n\n                                     cleaned_description          location  \\\n0      overview HearingLife national hearing care com...  Little River, SC   \n1      descriptiontitle look great opportunity develo...   Aliso Viejo, CA   \n2      descriptiontitle look great opportunity develo...   Aliso Viejo, CA   \n3      Job Summary iHerb mission health wellness acce...     United States   \n4      descriptiontitle sign Bonus guarantee look foo...   Aliso Viejo, CA   \n...                                                  ...               ...   \n18452  Gail Yost Associates hire time license mental ...   Minneapolis, MN   \n18453  United Staffing Solutions partner big covid va...      Muskegon, MI   \n18454  provide clerical administrative support manage...        Albany, GA   \n18455  industry hurt year people need insurance posit...         Chico, CA   \n18456  Karen Marie look awesome experienced stylist l...       Chicago, IL   \n\n      formatted_experience_level  standardized_annual_salary  \\\n0                    Entry level                     63000.0   \n1                    Entry level                     46321.6   \n2                    Entry level                     46321.6   \n3               Mid-Senior level                    240895.0   \n4                    Entry level                     40144.0   \n...                          ...                         ...   \n18452                        NaN                    100000.0   \n18453                        NaN                    104000.0   \n18454                        NaN                     39500.0   \n18455                        NaN                     48880.0   \n18456                        NaN                     57500.0   \n\n                                               title_emb  \n0      [0. 0. 0. 0. 0. 0. 0. 0. 0. 0. 0. 0. 0. 0. 0. ...  \n1                                                    0.0  \n2                                                    0.0  \n3      [0. 0. 0. 0. 0. 0. 0. 0. 0. 0. 0. 0. 0. 0. 0. ...  \n4                                                    0.0  \n...                                                  ...  \n18452  [0. 0. 0. 0. 0. 0. 0. 0. 0. 0. 0. 0. 0. 0. 0. ...  \n18453  [0. 0. 0. 0. 0. 0. 0. 0. 0. 0. 0. 1. 0. 0. 0. ...  \n18454  [0. 0. 0. 0. 0. 1. 0. 0. 0. 0. 0. 0. 0. 0. 0. ...  \n18455  [0. 0. 0. 0. 0. 0. 0. 0. 0. 0. 0. 0. 0. 0. 0. ...  \n18456                                                0.0  \n\n[18457 rows x 9 columns]",
      "text/html": "<div>\n<style scoped>\n    .dataframe tbody tr th:only-of-type {\n        vertical-align: middle;\n    }\n\n    .dataframe tbody tr th {\n        vertical-align: top;\n    }\n\n    .dataframe thead th {\n        text-align: right;\n    }\n</style>\n<table border=\"1\" class=\"dataframe\">\n  <thead>\n    <tr style=\"text-align: right;\">\n      <th></th>\n      <th>company_id</th>\n      <th>name</th>\n      <th>industry</th>\n      <th>cleaned_title</th>\n      <th>cleaned_description</th>\n      <th>location</th>\n      <th>formatted_experience_level</th>\n      <th>standardized_annual_salary</th>\n      <th>title_emb</th>\n    </tr>\n  </thead>\n  <tbody>\n    <tr>\n      <th>0</th>\n      <td>553718.0</td>\n      <td>HearingLife</td>\n      <td>Retail</td>\n      <td>hearing care provider</td>\n      <td>overview HearingLife national hearing care com...</td>\n      <td>Little River, SC</td>\n      <td>Entry level</td>\n      <td>63000.0</td>\n      <td>[0. 0. 0. 0. 0. 0. 0. 0. 0. 0. 0. 0. 0. 0. 0. ...</td>\n    </tr>\n    <tr>\n      <th>1</th>\n      <td>18213359.0</td>\n      <td>Episcopal Communities &amp; Services</td>\n      <td>Non-profit Organization Management</td>\n      <td>cook</td>\n      <td>descriptiontitle look great opportunity develo...</td>\n      <td>Aliso Viejo, CA</td>\n      <td>Entry level</td>\n      <td>46321.6</td>\n      <td>0.0</td>\n    </tr>\n    <tr>\n      <th>2</th>\n      <td>18213359.0</td>\n      <td>Episcopal Communities &amp; Services</td>\n      <td>Non-profit Organizations</td>\n      <td>cook</td>\n      <td>descriptiontitle look great opportunity develo...</td>\n      <td>Aliso Viejo, CA</td>\n      <td>Entry level</td>\n      <td>46321.6</td>\n      <td>0.0</td>\n    </tr>\n    <tr>\n      <th>3</th>\n      <td>437225.0</td>\n      <td>iHerb, LLC</td>\n      <td>Retail</td>\n      <td>principal cloud security architect remote</td>\n      <td>Job Summary iHerb mission health wellness acce...</td>\n      <td>United States</td>\n      <td>Mid-Senior level</td>\n      <td>240895.0</td>\n      <td>[0. 0. 0. 0. 0. 0. 0. 0. 0. 0. 0. 0. 0. 0. 0. ...</td>\n    </tr>\n    <tr>\n      <th>4</th>\n      <td>18213359.0</td>\n      <td>Episcopal Communities &amp; Services</td>\n      <td>Non-profit Organization Management</td>\n      <td>dishwasher</td>\n      <td>descriptiontitle sign Bonus guarantee look foo...</td>\n      <td>Aliso Viejo, CA</td>\n      <td>Entry level</td>\n      <td>40144.0</td>\n      <td>0.0</td>\n    </tr>\n    <tr>\n      <th>...</th>\n      <td>...</td>\n      <td>...</td>\n      <td>...</td>\n      <td>...</td>\n      <td>...</td>\n      <td>...</td>\n      <td>...</td>\n      <td>...</td>\n      <td>...</td>\n    </tr>\n    <tr>\n      <th>18452</th>\n      <td>NaN</td>\n      <td>NaN</td>\n      <td>NaN</td>\n      <td>mental health practitioners</td>\n      <td>Gail Yost Associates hire time license mental ...</td>\n      <td>Minneapolis, MN</td>\n      <td>NaN</td>\n      <td>100000.0</td>\n      <td>[0. 0. 0. 0. 0. 0. 0. 0. 0. 0. 0. 0. 0. 0. 0. ...</td>\n    </tr>\n    <tr>\n      <th>18453</th>\n      <td>61469.0</td>\n      <td>United Staffing Solutions (USS)</td>\n      <td>Staffing &amp; Recruiting</td>\n      <td>registered nurse rn vaccinator</td>\n      <td>United Staffing Solutions partner big covid va...</td>\n      <td>Muskegon, MI</td>\n      <td>NaN</td>\n      <td>104000.0</td>\n      <td>[0. 0. 0. 0. 0. 0. 0. 0. 0. 0. 0. 1. 0. 0. 0. ...</td>\n    </tr>\n    <tr>\n      <th>18454</th>\n      <td>3894635.0</td>\n      <td>Sunnyland Farms</td>\n      <td>Retail</td>\n      <td>office associate</td>\n      <td>provide clerical administrative support manage...</td>\n      <td>Albany, GA</td>\n      <td>NaN</td>\n      <td>39500.0</td>\n      <td>[0. 0. 0. 0. 0. 1. 0. 0. 0. 0. 0. 0. 0. 0. 0. ...</td>\n    </tr>\n    <tr>\n      <th>18455</th>\n      <td>NaN</td>\n      <td>NaN</td>\n      <td>NaN</td>\n      <td>licensed insurance agent</td>\n      <td>industry hurt year people need insurance posit...</td>\n      <td>Chico, CA</td>\n      <td>NaN</td>\n      <td>48880.0</td>\n      <td>[0. 0. 0. 0. 0. 0. 0. 0. 0. 0. 0. 0. 0. 0. 0. ...</td>\n    </tr>\n    <tr>\n      <th>18456</th>\n      <td>630152.0</td>\n      <td>Karen Marie Salon</td>\n      <td>Consumer Services</td>\n      <td>stylist clorist</td>\n      <td>Karen Marie look awesome experienced stylist l...</td>\n      <td>Chicago, IL</td>\n      <td>NaN</td>\n      <td>57500.0</td>\n      <td>0.0</td>\n    </tr>\n  </tbody>\n</table>\n<p>18457 rows × 9 columns</p>\n</div>"
     },
     "execution_count": 13,
     "metadata": {},
     "output_type": "execute_result"
    }
   ],
   "source": [
    "processed = pd.read_csv(\"processed_job_postings.csv\")\n",
    "processed"
   ],
   "metadata": {
    "collapsed": false,
    "ExecuteTime": {
     "end_time": "2024-04-15T13:03:06.816336Z",
     "start_time": "2024-04-15T13:03:06.047248Z"
    }
   },
   "id": "892ace29a382a7b1",
   "execution_count": 13
  },
  {
   "cell_type": "code",
   "outputs": [],
   "source": [],
   "metadata": {
    "collapsed": false
   },
   "id": "aa616c260b024fc5"
  }
 ],
 "metadata": {
  "kernelspec": {
   "display_name": "Python 3",
   "language": "python",
   "name": "python3"
  },
  "language_info": {
   "codemirror_mode": {
    "name": "ipython",
    "version": 2
   },
   "file_extension": ".py",
   "mimetype": "text/x-python",
   "name": "python",
   "nbconvert_exporter": "python",
   "pygments_lexer": "ipython2",
   "version": "2.7.6"
  }
 },
 "nbformat": 4,
 "nbformat_minor": 5
}
