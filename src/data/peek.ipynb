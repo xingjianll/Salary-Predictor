{
 "cells": [
  {
   "cell_type": "code",
   "execution_count": 2,
   "id": "initial_id",
   "metadata": {
    "collapsed": true,
    "ExecuteTime": {
     "end_time": "2024-04-19T00:07:24.384784Z",
     "start_time": "2024-04-19T00:07:22.987890Z"
    }
   },
   "outputs": [],
   "source": [
    "import pandas as pd\n"
   ]
  },
  {
   "cell_type": "code",
   "outputs": [
    {
     "data": {
      "text/plain": "       company_id                             name               industry  \\\n0             NaN                        Millennia                    NaN   \n1             NaN        TechGenius Solutions Inc.                    NaN   \n2             NaN              Digital iTechnology                    NaN   \n3             NaN               Anchor Fabrication                    NaN   \n4             NaN                    RaceEntry.com                    NaN   \n...           ...                              ...                    ...   \n30888         NaN                              NaN                    NaN   \n30889     61469.0  United Staffing Solutions (USS)  Staffing & Recruiting   \n30890   3894635.0                  Sunnyland Farms                 Retail   \n30891         NaN                              NaN                    NaN   \n30892    630152.0                Karen Marie Salon      Consumer Services   \n\n                                         cleaned_title  \\\n0                                   lead rpa developer   \n1      field service engineer onsite delivery engineer   \n2                      w2 java developer aem denver co   \n3                      cnc machinist welder programmer   \n4                                  stack web developer   \n...                                                ...   \n30888                      mental health practitioners   \n30889                   registered nurse rn vaccinator   \n30890                                 office associate   \n30891                         licensed insurance agent   \n30892                                  stylist clorist   \n\n                                     cleaned_description  work_type  \\\n0      please note applicants must be authorized to w...        NaN   \n1      techgenius solutions inc is committed to provi...        NaN   \n2      stop no third parties please please apply only...        NaN   \n3      cnc machinistwelderprogrammer anchor fabricati...        NaN   \n4      we develop for 3 websites raceentrycom stridee...        NaN   \n...                                                  ...        ...   \n30888  gail m yost and associates is hiring full time...  FULL_TIME   \n30889  united staffing solutions is partnering with o...  PART_TIME   \n30890  provide clerical and administrative support to...  FULL_TIME   \n30891  while many industries were hurt by the last fe...  FULL_TIME   \n30892  karen marie is looking for an awesome experien...  FULL_TIME   \n\n              location formatted_experience_level  standardized_annual_salary  \\\n0             Cary, NC                        NaN                    110000.0   \n1         Kingston, GA                        NaN                     80000.0   \n2           Denver, CO                        NaN                     97920.0   \n3           Denton, TX                        NaN                     53895.0   \n4            Provo, UT                        NaN                     67200.0   \n...                ...                        ...                         ...   \n30888  Minneapolis, MN                        NaN                    100000.0   \n30889     Muskegon, MI                        NaN                     96000.0   \n30890       Albany, GA                        NaN                     39500.0   \n30891        Chico, CA                        NaN                     48880.0   \n30892      Chicago, IL                        NaN                     57500.0   \n\n      salary_level                                          title_emb  \n0      110K - 115K  [0. 0. 0. 0. 0. 0. 0. 0. 0. 0. 0. 0. 0. 0. 0. ...  \n1        80K - 85K  [0. 2. 0. 0. 0. 0. 0. 0. 0. 0. 0. 1. 0. 0. 0. ...  \n2      100K - 105K  [0. 0. 0. 0. 0. 0. 0. 0. 0. 0. 0. 0. 0. 0. 0. ...  \n3        55K - 60K  [0. 0. 0. 0. 0. 0. 0. 0. 0. 0. 0. 0. 0. 0. 0. ...  \n4        70K - 75K  [0. 0. 0. 0. 0. 0. 0. 0. 0. 0. 0. 0. 0. 0. 0. ...  \n...            ...                                                ...  \n30888  100K - 105K  [0. 0. 0. 0. 0. 0. 0. 0. 0. 0. 0. 0. 0. 0. 0. ...  \n30889  100K - 105K  [0. 0. 0. 0. 0. 0. 0. 0. 0. 0. 1. 0. 0. 0. 0. ...  \n30890    40K - 45K  [0. 0. 0. 0. 0. 0. 1. 0. 0. 0. 0. 0. 0. 0. 0. ...  \n30891    50K - 55K  [0. 0. 0. 0. 0. 0. 0. 0. 0. 0. 0. 0. 0. 0. 0. ...  \n30892    60K - 65K  [0. 0. 0. 0. 0. 0. 0. 0. 0. 0. 0. 0. 0. 0. 0. ...  \n\n[30893 rows x 11 columns]",
      "text/html": "<div>\n<style scoped>\n    .dataframe tbody tr th:only-of-type {\n        vertical-align: middle;\n    }\n\n    .dataframe tbody tr th {\n        vertical-align: top;\n    }\n\n    .dataframe thead th {\n        text-align: right;\n    }\n</style>\n<table border=\"1\" class=\"dataframe\">\n  <thead>\n    <tr style=\"text-align: right;\">\n      <th></th>\n      <th>company_id</th>\n      <th>name</th>\n      <th>industry</th>\n      <th>cleaned_title</th>\n      <th>cleaned_description</th>\n      <th>work_type</th>\n      <th>location</th>\n      <th>formatted_experience_level</th>\n      <th>standardized_annual_salary</th>\n      <th>salary_level</th>\n      <th>title_emb</th>\n    </tr>\n  </thead>\n  <tbody>\n    <tr>\n      <th>0</th>\n      <td>NaN</td>\n      <td>Millennia</td>\n      <td>NaN</td>\n      <td>lead rpa developer</td>\n      <td>please note applicants must be authorized to w...</td>\n      <td>NaN</td>\n      <td>Cary, NC</td>\n      <td>NaN</td>\n      <td>110000.0</td>\n      <td>110K - 115K</td>\n      <td>[0. 0. 0. 0. 0. 0. 0. 0. 0. 0. 0. 0. 0. 0. 0. ...</td>\n    </tr>\n    <tr>\n      <th>1</th>\n      <td>NaN</td>\n      <td>TechGenius Solutions Inc.</td>\n      <td>NaN</td>\n      <td>field service engineer onsite delivery engineer</td>\n      <td>techgenius solutions inc is committed to provi...</td>\n      <td>NaN</td>\n      <td>Kingston, GA</td>\n      <td>NaN</td>\n      <td>80000.0</td>\n      <td>80K - 85K</td>\n      <td>[0. 2. 0. 0. 0. 0. 0. 0. 0. 0. 0. 1. 0. 0. 0. ...</td>\n    </tr>\n    <tr>\n      <th>2</th>\n      <td>NaN</td>\n      <td>Digital iTechnology</td>\n      <td>NaN</td>\n      <td>w2 java developer aem denver co</td>\n      <td>stop no third parties please please apply only...</td>\n      <td>NaN</td>\n      <td>Denver, CO</td>\n      <td>NaN</td>\n      <td>97920.0</td>\n      <td>100K - 105K</td>\n      <td>[0. 0. 0. 0. 0. 0. 0. 0. 0. 0. 0. 0. 0. 0. 0. ...</td>\n    </tr>\n    <tr>\n      <th>3</th>\n      <td>NaN</td>\n      <td>Anchor Fabrication</td>\n      <td>NaN</td>\n      <td>cnc machinist welder programmer</td>\n      <td>cnc machinistwelderprogrammer anchor fabricati...</td>\n      <td>NaN</td>\n      <td>Denton, TX</td>\n      <td>NaN</td>\n      <td>53895.0</td>\n      <td>55K - 60K</td>\n      <td>[0. 0. 0. 0. 0. 0. 0. 0. 0. 0. 0. 0. 0. 0. 0. ...</td>\n    </tr>\n    <tr>\n      <th>4</th>\n      <td>NaN</td>\n      <td>RaceEntry.com</td>\n      <td>NaN</td>\n      <td>stack web developer</td>\n      <td>we develop for 3 websites raceentrycom stridee...</td>\n      <td>NaN</td>\n      <td>Provo, UT</td>\n      <td>NaN</td>\n      <td>67200.0</td>\n      <td>70K - 75K</td>\n      <td>[0. 0. 0. 0. 0. 0. 0. 0. 0. 0. 0. 0. 0. 0. 0. ...</td>\n    </tr>\n    <tr>\n      <th>...</th>\n      <td>...</td>\n      <td>...</td>\n      <td>...</td>\n      <td>...</td>\n      <td>...</td>\n      <td>...</td>\n      <td>...</td>\n      <td>...</td>\n      <td>...</td>\n      <td>...</td>\n      <td>...</td>\n    </tr>\n    <tr>\n      <th>30888</th>\n      <td>NaN</td>\n      <td>NaN</td>\n      <td>NaN</td>\n      <td>mental health practitioners</td>\n      <td>gail m yost and associates is hiring full time...</td>\n      <td>FULL_TIME</td>\n      <td>Minneapolis, MN</td>\n      <td>NaN</td>\n      <td>100000.0</td>\n      <td>100K - 105K</td>\n      <td>[0. 0. 0. 0. 0. 0. 0. 0. 0. 0. 0. 0. 0. 0. 0. ...</td>\n    </tr>\n    <tr>\n      <th>30889</th>\n      <td>61469.0</td>\n      <td>United Staffing Solutions (USS)</td>\n      <td>Staffing &amp; Recruiting</td>\n      <td>registered nurse rn vaccinator</td>\n      <td>united staffing solutions is partnering with o...</td>\n      <td>PART_TIME</td>\n      <td>Muskegon, MI</td>\n      <td>NaN</td>\n      <td>96000.0</td>\n      <td>100K - 105K</td>\n      <td>[0. 0. 0. 0. 0. 0. 0. 0. 0. 0. 1. 0. 0. 0. 0. ...</td>\n    </tr>\n    <tr>\n      <th>30890</th>\n      <td>3894635.0</td>\n      <td>Sunnyland Farms</td>\n      <td>Retail</td>\n      <td>office associate</td>\n      <td>provide clerical and administrative support to...</td>\n      <td>FULL_TIME</td>\n      <td>Albany, GA</td>\n      <td>NaN</td>\n      <td>39500.0</td>\n      <td>40K - 45K</td>\n      <td>[0. 0. 0. 0. 0. 0. 1. 0. 0. 0. 0. 0. 0. 0. 0. ...</td>\n    </tr>\n    <tr>\n      <th>30891</th>\n      <td>NaN</td>\n      <td>NaN</td>\n      <td>NaN</td>\n      <td>licensed insurance agent</td>\n      <td>while many industries were hurt by the last fe...</td>\n      <td>FULL_TIME</td>\n      <td>Chico, CA</td>\n      <td>NaN</td>\n      <td>48880.0</td>\n      <td>50K - 55K</td>\n      <td>[0. 0. 0. 0. 0. 0. 0. 0. 0. 0. 0. 0. 0. 0. 0. ...</td>\n    </tr>\n    <tr>\n      <th>30892</th>\n      <td>630152.0</td>\n      <td>Karen Marie Salon</td>\n      <td>Consumer Services</td>\n      <td>stylist clorist</td>\n      <td>karen marie is looking for an awesome experien...</td>\n      <td>FULL_TIME</td>\n      <td>Chicago, IL</td>\n      <td>NaN</td>\n      <td>57500.0</td>\n      <td>60K - 65K</td>\n      <td>[0. 0. 0. 0. 0. 0. 0. 0. 0. 0. 0. 0. 0. 0. 0. ...</td>\n    </tr>\n  </tbody>\n</table>\n<p>30893 rows × 11 columns</p>\n</div>"
     },
     "execution_count": 3,
     "metadata": {},
     "output_type": "execute_result"
    }
   ],
   "source": [
    "processed = pd.read_csv(\"processed_job_postings_large.csv\")\n",
    "processed"
   ],
   "metadata": {
    "collapsed": false,
    "ExecuteTime": {
     "end_time": "2024-04-19T00:07:25.889087Z",
     "start_time": "2024-04-19T00:07:24.387233Z"
    }
   },
   "id": "892ace29a382a7b1",
   "execution_count": 3
  },
  {
   "cell_type": "code",
   "outputs": [],
   "source": [],
   "metadata": {
    "collapsed": false
   },
   "id": "aa616c260b024fc5"
  }
 ],
 "metadata": {
  "kernelspec": {
   "display_name": "Python 3",
   "language": "python",
   "name": "python3"
  },
  "language_info": {
   "codemirror_mode": {
    "name": "ipython",
    "version": 2
   },
   "file_extension": ".py",
   "mimetype": "text/x-python",
   "name": "python",
   "nbconvert_exporter": "python",
   "pygments_lexer": "ipython2",
   "version": "2.7.6"
  }
 },
 "nbformat": 4,
 "nbformat_minor": 5
}
